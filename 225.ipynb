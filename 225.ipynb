{
  "cells": [
    {
      "cell_type": "markdown",
      "metadata": {
        "id": "pMvZOG9imFPT"
      },
      "source": [
        "# Module 2: Data Analysis\n",
        "## Sprint 2: Inferential Statistical Analysis\n",
        "## Part 5: Inferential Statistical Analysis of the Podcast Reviews\n"
      ]
    },
    {
      "cell_type": "markdown",
      "metadata": {
        "id": "tnln3q7BmFPW"
      },
      "source": [
        "## About this Part\n",
        "\n",
        "Congrats!\n",
        "You have reached the last Part of this Sprint.\n",
        "In this Part, you will put what you learned during this and the previous Sprints into practice.\n",
        "As the final assignment of this Sprint, you will analyse the Podcast Reviews Dataset.\n",
        "You will have to apply all that you have learned about Statistical Inference & SQL to complete this task.\n",
        "Our expectation is that you'll use your own judgement how to perform the analysis and how to select the most important avenues of statistical testing and exploration.\n",
        "You'll have to iteratively raise hypotheses and use your data analysis skills to get answers.\n",
        "\n",
        "## Objectives for this Part\n",
        "\n",
        "- Practice working with SQLite datasets.\n",
        "- Practice performing EDA.\n",
        "- Practice applying statistical inference procedures.\n",
        "- Practice visualizing data with Matplotlib & Seaborn.\n",
        "- Practice reading data, performing queries and filtering data using SQL and Pandas.\n",
        "\n",
        "## Requirements\n",
        "\n",
        "- Download the data from [Podcast Reviews Dataset](https://www.kaggle.com/thoughtvector/podcastreviews).\n",
        "- Load the data using SQLite and Pandas.\n",
        "- Perform exploratory data analysis. This should include creating statistical summaries and charts, testing for anomalies, checking for correlations and other relations between variables, and other EDA elements.\n",
        "- Perform statistical inference. This should include defining the target population, forming multiple statistical hypotheses and constructing confidence intervals, setting the significance levels, conducting z or t-tests for these hypotheses.\n",
        "- Provide clear explanations in your notebook. Your explanations should inform the reader what you are trying to achieve, what results did you get, and what these results mean.\n",
        "- Provide suggestions about how your analysis can be improved.\n",
        "\n",
        "## Evaluation Criteria\n",
        "\n",
        "- Adherence to the requirements. How well did you meet the requirements?\n",
        "- Depth of your analysis. Did you just skim the surface or did you explored the dataset in depth?\n",
        "- Visualization quality. Did you use charts effectively to visualize patterns in the data? Are your visualizations properly labeled? Did you use colors effectively? Did you adhere to the principle of proportional ink?\n",
        "- Code quality. Was your code well-structure? Did you use the appropriate levels of abstraction? Did you remove commented out and unused code? Did you adhere to the PEP8?\n",
        "- Code performance. Did you use the suitable algorithms and data structures to solve the problems?\n",
        "\n",
        "## Sample Correction Questions\n",
        "\n",
        "During a correction, you may get asked questions that test your understanding of covered topics.\n",
        "\n",
        "- Explain how to perform a permutation procedure\n",
        "- What is the difference between a parameter and a statistic?\n",
        "- What is a confidence interval?\n",
        "- Why is it risky to assume a normal distribution?\n",
        "- Why do we need to have control groups, while doing A/B testing?\n",
        "\n"
      ]
    },
    {
      "cell_type": "markdown",
      "source": [
        "# Imports"
      ],
      "metadata": {
        "id": "u9vJ0cr0oLOn"
      }
    },
    {
      "cell_type": "code",
      "source": [
        "pip install statsmodels==0.13.0"
      ],
      "metadata": {
        "id": "DEgpUDd78pCo",
        "outputId": "6dc12cba-7955-42ce-b254-b1f6347e794b",
        "colab": {
          "base_uri": "https://localhost:8080/"
        }
      },
      "execution_count": 2,
      "outputs": [
        {
          "output_type": "stream",
          "name": "stdout",
          "text": [
            "Requirement already satisfied: statsmodels==0.13.0 in /usr/local/lib/python3.7/dist-packages (0.13.0)\n",
            "Requirement already satisfied: numpy>=1.17 in /usr/local/lib/python3.7/dist-packages (from statsmodels==0.13.0) (1.21.6)\n",
            "Requirement already satisfied: patsy>=0.5.2 in /usr/local/lib/python3.7/dist-packages (from statsmodels==0.13.0) (0.5.2)\n",
            "Requirement already satisfied: scipy>=1.3 in /usr/local/lib/python3.7/dist-packages (from statsmodels==0.13.0) (1.4.1)\n",
            "Requirement already satisfied: pandas>=0.25 in /usr/local/lib/python3.7/dist-packages (from statsmodels==0.13.0) (1.3.5)\n",
            "Requirement already satisfied: pytz>=2017.3 in /usr/local/lib/python3.7/dist-packages (from pandas>=0.25->statsmodels==0.13.0) (2022.1)\n",
            "Requirement already satisfied: python-dateutil>=2.7.3 in /usr/local/lib/python3.7/dist-packages (from pandas>=0.25->statsmodels==0.13.0) (2.8.2)\n",
            "Requirement already satisfied: six in /usr/local/lib/python3.7/dist-packages (from patsy>=0.5.2->statsmodels==0.13.0) (1.15.0)\n"
          ]
        }
      ]
    },
    {
      "cell_type": "code",
      "execution_count": 70,
      "metadata": {
        "id": "lgV1Zkk6mFPX"
      },
      "outputs": [],
      "source": [
        "import pandas as pd\n",
        "import matplotlib.pyplot as plt\n",
        "import sqlite3 as sql\n",
        "import seaborn as sns\n",
        "from seaborn.palettes import color_palette\n",
        "from collections import Counter\n",
        "import math\n",
        "import numpy as np\n",
        "import statsmodels.stats.weightstats as sm\n",
        "from statsmodels.stats.proportion import proportions_ztest, confint_proportions_2indep\n",
        "import warnings\n",
        "from typing import Dict, List\n",
        "from typing import TypeVar\n",
        "\n",
        "PandasDataFrame = TypeVar(\"pandas.core.frame.DataFrame\")\n",
        "AxesSubplot = TypeVar(\"matplotlib.axes._subplots.AxesSubplot\")\n",
        "\n",
        "warnings.filterwarnings(\"ignore\")"
      ]
    },
    {
      "cell_type": "code",
      "source": [
        "sns.set_style(\"darkgrid\", {\"axes.facecolor\": \".9\"})\n",
        "sns.set_palette('summer')"
      ],
      "metadata": {
        "id": "zMRdH-r8PCto"
      },
      "execution_count": 4,
      "outputs": []
    },
    {
      "cell_type": "code",
      "source": [
        "from google.colab import drive\n",
        "\n",
        "drive.mount(\"/content/drive\")"
      ],
      "metadata": {
        "id": "cF33Qo_TmRF8",
        "outputId": "8920a960-6af8-455c-e9cd-13a7ea6b5ec5",
        "colab": {
          "base_uri": "https://localhost:8080/"
        }
      },
      "execution_count": 5,
      "outputs": [
        {
          "output_type": "stream",
          "name": "stdout",
          "text": [
            "Drive already mounted at /content/drive; to attempt to forcibly remount, call drive.mount(\"/content/drive\", force_remount=True).\n"
          ]
        }
      ]
    },
    {
      "cell_type": "code",
      "source": [
        "conn = sql.connect(\"/content/drive/MyDrive/podcast_dataset/database.sqlite\")"
      ],
      "metadata": {
        "id": "BztLc4Lon1tA"
      },
      "execution_count": 6,
      "outputs": []
    },
    {
      "cell_type": "markdown",
      "source": [
        "# Functions"
      ],
      "metadata": {
        "id": "EAQnSlbSoOQK"
      }
    },
    {
      "cell_type": "code",
      "source": [
        "def drop_outliers(dataframe: PandasDataFrame) -> PandasDataFrame:\n",
        "    \"\"\"This function replaces the outlier values of a provided dataframe with \n",
        "    NaN values. \"\"\"\n",
        "    for column in dataframe.select_dtypes(np.number).columns:\n",
        "        q1 = dataframe[column].quantile(0.25)  # 1st quartile value\n",
        "        q3 = dataframe[column].quantile(0.75)  # 3rd quartile value\n",
        "        iqr = q3 - q1  # Interquartile range\n",
        "        outlier = (dataframe[column] < (q1 - 1.5 * iqr)) | (\n",
        "            dataframe[column] > (q3 + 1.5 * iqr)\n",
        "        )\n",
        "\n",
        "        # mask outliers with nan values\n",
        "        dataframe[column].mask(outlier, other=np.nan, inplace=True)\n",
        "\n",
        "    return dataframe"
      ],
      "metadata": {
        "id": "bf4XtVUyoVFP"
      },
      "execution_count": 7,
      "outputs": []
    },
    {
      "cell_type": "code",
      "source": [
        "def plot_labels(title: str, x_label=None, y_label=None):\n",
        "    \"\"\"This function sets the title and axes labels for a given plot.\"\"\"\n",
        "    plt.title(title)\n",
        "    plt.xlabel(x_label)\n",
        "    plt.ylabel(y_label)"
      ],
      "metadata": {
        "id": "Fgu91Abrotup"
      },
      "execution_count": 8,
      "outputs": []
    },
    {
      "cell_type": "code",
      "source": [
        "def plot_axes(l_spine=False, r_spine=False, top_spine=False, bottom_spine=True, x_visible=False, y_visible=True):\n",
        "    \"\"\"This function sets visibility of the plots axes and spines.\"\"\"\n",
        "    plt.grid(visible=x_visible, axis='x')\n",
        "    plt.grid(visible=y_visible, axis='y')\n",
        "    ax.spines['right'].set_visible(r_spine)\n",
        "    ax.spines['top'].set_visible(top_spine)\n",
        "    ax.spines['left'].set_visible(l_spine)\n",
        "    ax.spines['bottom'].set_visible(bottom_spine)"
      ],
      "metadata": {
        "id": "uZ8ztK4xofHK"
      },
      "execution_count": 9,
      "outputs": []
    },
    {
      "cell_type": "code",
      "source": [
        "def show_values(axs: AxesSubplot, orient: str='v', space: float=0.05, decimals: int=1):\n",
        "    \"\"\" This function adds value labels to the plot provided. The default plot\n",
        "    orientation is vertical. To change it to horizontal pass orient='h'. The \n",
        "    space parameter can be changed to control the position of the labels. The \n",
        "    decimals parameter defines how many decimals are shown.\"\"\"\n",
        "    def _single(ax):\n",
        "        if orient == \"v\":\n",
        "            for p in ax.patches:\n",
        "                _x = p.get_x() + p.get_width() / 2\n",
        "                _y = p.get_y() + p.get_height() + float(space)\n",
        "                value = '{:.{}f}'.format(p.get_height(), decimals)\n",
        "                ax.text(_x, _y, value, ha=\"center\") \n",
        "        elif orient == \"h\":\n",
        "            for p in ax.patches:\n",
        "                _x = p.get_x() + p.get_width() + float(space)\n",
        "                _y = p.get_y() + p.get_height() - (p.get_height()*0.2)\n",
        "                value = '{:.{}f}'.format(p.get_width(), decimals)\n",
        "                ax.text(_x, _y, value, ha=\"left\")\n",
        "\n",
        "    if isinstance(axs, np.ndarray):\n",
        "        for idx, ax in np.ndenumerate(axs):\n",
        "            _single(ax)\n",
        "    else:\n",
        "        _single(axs)"
      ],
      "metadata": {
        "id": "b4v0iHEuNwDT"
      },
      "execution_count": 10,
      "outputs": []
    },
    {
      "cell_type": "code",
      "source": [
        "def unpooled_ci(x1: PandasDataFrame, x2: PandasDataFrame, best_estimate: float, tstar=1.96):\n",
        "    \"\"\" The function calculates the confidence interval for the best estimate\n",
        "    of the difference in means provided.\"\"\"\n",
        "    var_1 = x1.std()**2\n",
        "    var_2 = x2.std()**2\n",
        "    sample_size_1 = x1.count()\n",
        "    sample_size_2 = x2.count()\n",
        "    estimated_standard_error = math.sqrt((var_1 / sample_size_1) + (var_2 / sample_size_2))\n",
        "    margin = tstar * estimated_standard_error\n",
        "    lower_bound = best_estimate - tstar * estimated_standard_error\n",
        "    upper_bound = best_estimate + tstar * estimated_standard_error\n",
        "\n",
        "    return best_estimate, margin, lower_bound, upper_bound"
      ],
      "metadata": {
        "id": "19R2DvXDIleM"
      },
      "execution_count": 11,
      "outputs": []
    },
    {
      "cell_type": "markdown",
      "source": [
        "# EDA"
      ],
      "metadata": {
        "id": "qcvGLseVpGSQ"
      }
    },
    {
      "cell_type": "markdown",
      "source": [
        "## Overview of the database"
      ],
      "metadata": {
        "id": "hcg5Ko1o9am3"
      }
    },
    {
      "cell_type": "code",
      "source": [
        "categories = pd.read_sql('select * from categories', conn)\n",
        "categories.head()"
      ],
      "metadata": {
        "id": "SJoSyZYjpJWe",
        "outputId": "5cf8909a-d243-470e-f698-fdb5e5b58f12",
        "colab": {
          "base_uri": "https://localhost:8080/",
          "height": 206
        }
      },
      "execution_count": 12,
      "outputs": [
        {
          "output_type": "execute_result",
          "data": {
            "text/plain": [
              "                         podcast_id              category\n",
              "0  c61aa81c9b929a66f0c1db6cbe5d8548                  arts\n",
              "1  c61aa81c9b929a66f0c1db6cbe5d8548  arts-performing-arts\n",
              "2  c61aa81c9b929a66f0c1db6cbe5d8548                 music\n",
              "3  ad4f2bf69c72b8db75978423c25f379e                  arts\n",
              "4  ad4f2bf69c72b8db75978423c25f379e           arts-design"
            ],
            "text/html": [
              "\n",
              "  <div id=\"df-33a6e5d0-51c1-4afd-8aaf-7f10f7f6ca69\">\n",
              "    <div class=\"colab-df-container\">\n",
              "      <div>\n",
              "<style scoped>\n",
              "    .dataframe tbody tr th:only-of-type {\n",
              "        vertical-align: middle;\n",
              "    }\n",
              "\n",
              "    .dataframe tbody tr th {\n",
              "        vertical-align: top;\n",
              "    }\n",
              "\n",
              "    .dataframe thead th {\n",
              "        text-align: right;\n",
              "    }\n",
              "</style>\n",
              "<table border=\"1\" class=\"dataframe\">\n",
              "  <thead>\n",
              "    <tr style=\"text-align: right;\">\n",
              "      <th></th>\n",
              "      <th>podcast_id</th>\n",
              "      <th>category</th>\n",
              "    </tr>\n",
              "  </thead>\n",
              "  <tbody>\n",
              "    <tr>\n",
              "      <th>0</th>\n",
              "      <td>c61aa81c9b929a66f0c1db6cbe5d8548</td>\n",
              "      <td>arts</td>\n",
              "    </tr>\n",
              "    <tr>\n",
              "      <th>1</th>\n",
              "      <td>c61aa81c9b929a66f0c1db6cbe5d8548</td>\n",
              "      <td>arts-performing-arts</td>\n",
              "    </tr>\n",
              "    <tr>\n",
              "      <th>2</th>\n",
              "      <td>c61aa81c9b929a66f0c1db6cbe5d8548</td>\n",
              "      <td>music</td>\n",
              "    </tr>\n",
              "    <tr>\n",
              "      <th>3</th>\n",
              "      <td>ad4f2bf69c72b8db75978423c25f379e</td>\n",
              "      <td>arts</td>\n",
              "    </tr>\n",
              "    <tr>\n",
              "      <th>4</th>\n",
              "      <td>ad4f2bf69c72b8db75978423c25f379e</td>\n",
              "      <td>arts-design</td>\n",
              "    </tr>\n",
              "  </tbody>\n",
              "</table>\n",
              "</div>\n",
              "      <button class=\"colab-df-convert\" onclick=\"convertToInteractive('df-33a6e5d0-51c1-4afd-8aaf-7f10f7f6ca69')\"\n",
              "              title=\"Convert this dataframe to an interactive table.\"\n",
              "              style=\"display:none;\">\n",
              "        \n",
              "  <svg xmlns=\"http://www.w3.org/2000/svg\" height=\"24px\"viewBox=\"0 0 24 24\"\n",
              "       width=\"24px\">\n",
              "    <path d=\"M0 0h24v24H0V0z\" fill=\"none\"/>\n",
              "    <path d=\"M18.56 5.44l.94 2.06.94-2.06 2.06-.94-2.06-.94-.94-2.06-.94 2.06-2.06.94zm-11 1L8.5 8.5l.94-2.06 2.06-.94-2.06-.94L8.5 2.5l-.94 2.06-2.06.94zm10 10l.94 2.06.94-2.06 2.06-.94-2.06-.94-.94-2.06-.94 2.06-2.06.94z\"/><path d=\"M17.41 7.96l-1.37-1.37c-.4-.4-.92-.59-1.43-.59-.52 0-1.04.2-1.43.59L10.3 9.45l-7.72 7.72c-.78.78-.78 2.05 0 2.83L4 21.41c.39.39.9.59 1.41.59.51 0 1.02-.2 1.41-.59l7.78-7.78 2.81-2.81c.8-.78.8-2.07 0-2.86zM5.41 20L4 18.59l7.72-7.72 1.47 1.35L5.41 20z\"/>\n",
              "  </svg>\n",
              "      </button>\n",
              "      \n",
              "  <style>\n",
              "    .colab-df-container {\n",
              "      display:flex;\n",
              "      flex-wrap:wrap;\n",
              "      gap: 12px;\n",
              "    }\n",
              "\n",
              "    .colab-df-convert {\n",
              "      background-color: #E8F0FE;\n",
              "      border: none;\n",
              "      border-radius: 50%;\n",
              "      cursor: pointer;\n",
              "      display: none;\n",
              "      fill: #1967D2;\n",
              "      height: 32px;\n",
              "      padding: 0 0 0 0;\n",
              "      width: 32px;\n",
              "    }\n",
              "\n",
              "    .colab-df-convert:hover {\n",
              "      background-color: #E2EBFA;\n",
              "      box-shadow: 0px 1px 2px rgba(60, 64, 67, 0.3), 0px 1px 3px 1px rgba(60, 64, 67, 0.15);\n",
              "      fill: #174EA6;\n",
              "    }\n",
              "\n",
              "    [theme=dark] .colab-df-convert {\n",
              "      background-color: #3B4455;\n",
              "      fill: #D2E3FC;\n",
              "    }\n",
              "\n",
              "    [theme=dark] .colab-df-convert:hover {\n",
              "      background-color: #434B5C;\n",
              "      box-shadow: 0px 1px 3px 1px rgba(0, 0, 0, 0.15);\n",
              "      filter: drop-shadow(0px 1px 2px rgba(0, 0, 0, 0.3));\n",
              "      fill: #FFFFFF;\n",
              "    }\n",
              "  </style>\n",
              "\n",
              "      <script>\n",
              "        const buttonEl =\n",
              "          document.querySelector('#df-33a6e5d0-51c1-4afd-8aaf-7f10f7f6ca69 button.colab-df-convert');\n",
              "        buttonEl.style.display =\n",
              "          google.colab.kernel.accessAllowed ? 'block' : 'none';\n",
              "\n",
              "        async function convertToInteractive(key) {\n",
              "          const element = document.querySelector('#df-33a6e5d0-51c1-4afd-8aaf-7f10f7f6ca69');\n",
              "          const dataTable =\n",
              "            await google.colab.kernel.invokeFunction('convertToInteractive',\n",
              "                                                     [key], {});\n",
              "          if (!dataTable) return;\n",
              "\n",
              "          const docLinkHtml = 'Like what you see? Visit the ' +\n",
              "            '<a target=\"_blank\" href=https://colab.research.google.com/notebooks/data_table.ipynb>data table notebook</a>'\n",
              "            + ' to learn more about interactive tables.';\n",
              "          element.innerHTML = '';\n",
              "          dataTable['output_type'] = 'display_data';\n",
              "          await google.colab.output.renderOutput(dataTable, element);\n",
              "          const docLink = document.createElement('div');\n",
              "          docLink.innerHTML = docLinkHtml;\n",
              "          element.appendChild(docLink);\n",
              "        }\n",
              "      </script>\n",
              "    </div>\n",
              "  </div>\n",
              "  "
            ]
          },
          "metadata": {},
          "execution_count": 12
        }
      ]
    },
    {
      "cell_type": "code",
      "source": [
        "podcast_count = pd.read_sql('select count(distinct podcast_id) as pod_count from categories', conn)['pod_count'][0]\n",
        "podcast_count"
      ],
      "metadata": {
        "colab": {
          "base_uri": "https://localhost:8080/"
        },
        "id": "nHTPgBdK0O0a",
        "outputId": "9f5f1cd5-17f6-4d23-8425-53b19d92cb8c"
      },
      "execution_count": 13,
      "outputs": [
        {
          "output_type": "execute_result",
          "data": {
            "text/plain": [
              "46693"
            ]
          },
          "metadata": {},
          "execution_count": 13
        }
      ]
    },
    {
      "cell_type": "markdown",
      "source": [
        "The _Categories_ table contains information about categories assigned to 46 693 podcast IDs."
      ],
      "metadata": {
        "id": "luQ59-Z_9f2g"
      }
    },
    {
      "cell_type": "code",
      "source": [
        "categories_grouped = pd.read_sql('select category, count(podcast_id) as total_count from categories group by category', conn)\n",
        "len(categories_grouped)"
      ],
      "metadata": {
        "id": "TvDb0iC9qvVK",
        "outputId": "31ae2aac-a94d-4231-8b17-f21e098214c8",
        "colab": {
          "base_uri": "https://localhost:8080/"
        }
      },
      "execution_count": 14,
      "outputs": [
        {
          "output_type": "execute_result",
          "data": {
            "text/plain": [
              "26"
            ]
          },
          "metadata": {},
          "execution_count": 14
        }
      ]
    },
    {
      "cell_type": "code",
      "source": [
        "categories_grouped.nlargest(5, 'total_count')"
      ],
      "metadata": {
        "colab": {
          "base_uri": "https://localhost:8080/",
          "height": 206
        },
        "id": "IVkQ_YosNzIT",
        "outputId": "f4316927-566a-4e1d-e41f-71700c34fa05"
      },
      "execution_count": 15,
      "outputs": [
        {
          "output_type": "execute_result",
          "data": {
            "text/plain": [
              "                 category  total_count\n",
              "19        society-culture        10073\n",
              "11                 comedy         8080\n",
              "18  religion-spirituality         7588\n",
              "7                business         6208\n",
              "0                    arts         5576"
            ],
            "text/html": [
              "\n",
              "  <div id=\"df-90303bd5-0a72-4560-8b8f-92c775d92761\">\n",
              "    <div class=\"colab-df-container\">\n",
              "      <div>\n",
              "<style scoped>\n",
              "    .dataframe tbody tr th:only-of-type {\n",
              "        vertical-align: middle;\n",
              "    }\n",
              "\n",
              "    .dataframe tbody tr th {\n",
              "        vertical-align: top;\n",
              "    }\n",
              "\n",
              "    .dataframe thead th {\n",
              "        text-align: right;\n",
              "    }\n",
              "</style>\n",
              "<table border=\"1\" class=\"dataframe\">\n",
              "  <thead>\n",
              "    <tr style=\"text-align: right;\">\n",
              "      <th></th>\n",
              "      <th>category</th>\n",
              "      <th>total_count</th>\n",
              "    </tr>\n",
              "  </thead>\n",
              "  <tbody>\n",
              "    <tr>\n",
              "      <th>19</th>\n",
              "      <td>society-culture</td>\n",
              "      <td>10073</td>\n",
              "    </tr>\n",
              "    <tr>\n",
              "      <th>11</th>\n",
              "      <td>comedy</td>\n",
              "      <td>8080</td>\n",
              "    </tr>\n",
              "    <tr>\n",
              "      <th>18</th>\n",
              "      <td>religion-spirituality</td>\n",
              "      <td>7588</td>\n",
              "    </tr>\n",
              "    <tr>\n",
              "      <th>7</th>\n",
              "      <td>business</td>\n",
              "      <td>6208</td>\n",
              "    </tr>\n",
              "    <tr>\n",
              "      <th>0</th>\n",
              "      <td>arts</td>\n",
              "      <td>5576</td>\n",
              "    </tr>\n",
              "  </tbody>\n",
              "</table>\n",
              "</div>\n",
              "      <button class=\"colab-df-convert\" onclick=\"convertToInteractive('df-90303bd5-0a72-4560-8b8f-92c775d92761')\"\n",
              "              title=\"Convert this dataframe to an interactive table.\"\n",
              "              style=\"display:none;\">\n",
              "        \n",
              "  <svg xmlns=\"http://www.w3.org/2000/svg\" height=\"24px\"viewBox=\"0 0 24 24\"\n",
              "       width=\"24px\">\n",
              "    <path d=\"M0 0h24v24H0V0z\" fill=\"none\"/>\n",
              "    <path d=\"M18.56 5.44l.94 2.06.94-2.06 2.06-.94-2.06-.94-.94-2.06-.94 2.06-2.06.94zm-11 1L8.5 8.5l.94-2.06 2.06-.94-2.06-.94L8.5 2.5l-.94 2.06-2.06.94zm10 10l.94 2.06.94-2.06 2.06-.94-2.06-.94-.94-2.06-.94 2.06-2.06.94z\"/><path d=\"M17.41 7.96l-1.37-1.37c-.4-.4-.92-.59-1.43-.59-.52 0-1.04.2-1.43.59L10.3 9.45l-7.72 7.72c-.78.78-.78 2.05 0 2.83L4 21.41c.39.39.9.59 1.41.59.51 0 1.02-.2 1.41-.59l7.78-7.78 2.81-2.81c.8-.78.8-2.07 0-2.86zM5.41 20L4 18.59l7.72-7.72 1.47 1.35L5.41 20z\"/>\n",
              "  </svg>\n",
              "      </button>\n",
              "      \n",
              "  <style>\n",
              "    .colab-df-container {\n",
              "      display:flex;\n",
              "      flex-wrap:wrap;\n",
              "      gap: 12px;\n",
              "    }\n",
              "\n",
              "    .colab-df-convert {\n",
              "      background-color: #E8F0FE;\n",
              "      border: none;\n",
              "      border-radius: 50%;\n",
              "      cursor: pointer;\n",
              "      display: none;\n",
              "      fill: #1967D2;\n",
              "      height: 32px;\n",
              "      padding: 0 0 0 0;\n",
              "      width: 32px;\n",
              "    }\n",
              "\n",
              "    .colab-df-convert:hover {\n",
              "      background-color: #E2EBFA;\n",
              "      box-shadow: 0px 1px 2px rgba(60, 64, 67, 0.3), 0px 1px 3px 1px rgba(60, 64, 67, 0.15);\n",
              "      fill: #174EA6;\n",
              "    }\n",
              "\n",
              "    [theme=dark] .colab-df-convert {\n",
              "      background-color: #3B4455;\n",
              "      fill: #D2E3FC;\n",
              "    }\n",
              "\n",
              "    [theme=dark] .colab-df-convert:hover {\n",
              "      background-color: #434B5C;\n",
              "      box-shadow: 0px 1px 3px 1px rgba(0, 0, 0, 0.15);\n",
              "      filter: drop-shadow(0px 1px 2px rgba(0, 0, 0, 0.3));\n",
              "      fill: #FFFFFF;\n",
              "    }\n",
              "  </style>\n",
              "\n",
              "      <script>\n",
              "        const buttonEl =\n",
              "          document.querySelector('#df-90303bd5-0a72-4560-8b8f-92c775d92761 button.colab-df-convert');\n",
              "        buttonEl.style.display =\n",
              "          google.colab.kernel.accessAllowed ? 'block' : 'none';\n",
              "\n",
              "        async function convertToInteractive(key) {\n",
              "          const element = document.querySelector('#df-90303bd5-0a72-4560-8b8f-92c775d92761');\n",
              "          const dataTable =\n",
              "            await google.colab.kernel.invokeFunction('convertToInteractive',\n",
              "                                                     [key], {});\n",
              "          if (!dataTable) return;\n",
              "\n",
              "          const docLinkHtml = 'Like what you see? Visit the ' +\n",
              "            '<a target=\"_blank\" href=https://colab.research.google.com/notebooks/data_table.ipynb>data table notebook</a>'\n",
              "            + ' to learn more about interactive tables.';\n",
              "          element.innerHTML = '';\n",
              "          dataTable['output_type'] = 'display_data';\n",
              "          await google.colab.output.renderOutput(dataTable, element);\n",
              "          const docLink = document.createElement('div');\n",
              "          docLink.innerHTML = docLinkHtml;\n",
              "          element.appendChild(docLink);\n",
              "        }\n",
              "      </script>\n",
              "    </div>\n",
              "  </div>\n",
              "  "
            ]
          },
          "metadata": {},
          "execution_count": 15
        }
      ]
    },
    {
      "cell_type": "code",
      "source": [
        "categories_grouped.nsmallest(5, 'total_count').sort_values(by=['total_count'], ascending=False)"
      ],
      "metadata": {
        "id": "mVIqS0KRsyHl",
        "outputId": "96f775c9-4880-44c4-e56d-6b912a4922e1",
        "colab": {
          "base_uri": "https://localhost:8080/",
          "height": 206
        }
      },
      "execution_count": 16,
      "outputs": [
        {
          "output_type": "execute_result",
          "data": {
            "text/plain": [
              "               category  total_count\n",
              "2   arts-fashion-beauty          248\n",
              "15              judaism          148\n",
              "14                islam          120\n",
              "6              buddhism           89\n",
              "13             hinduism           21"
            ],
            "text/html": [
              "\n",
              "  <div id=\"df-5e33c716-d5f3-4959-bc28-2f462d763404\">\n",
              "    <div class=\"colab-df-container\">\n",
              "      <div>\n",
              "<style scoped>\n",
              "    .dataframe tbody tr th:only-of-type {\n",
              "        vertical-align: middle;\n",
              "    }\n",
              "\n",
              "    .dataframe tbody tr th {\n",
              "        vertical-align: top;\n",
              "    }\n",
              "\n",
              "    .dataframe thead th {\n",
              "        text-align: right;\n",
              "    }\n",
              "</style>\n",
              "<table border=\"1\" class=\"dataframe\">\n",
              "  <thead>\n",
              "    <tr style=\"text-align: right;\">\n",
              "      <th></th>\n",
              "      <th>category</th>\n",
              "      <th>total_count</th>\n",
              "    </tr>\n",
              "  </thead>\n",
              "  <tbody>\n",
              "    <tr>\n",
              "      <th>2</th>\n",
              "      <td>arts-fashion-beauty</td>\n",
              "      <td>248</td>\n",
              "    </tr>\n",
              "    <tr>\n",
              "      <th>15</th>\n",
              "      <td>judaism</td>\n",
              "      <td>148</td>\n",
              "    </tr>\n",
              "    <tr>\n",
              "      <th>14</th>\n",
              "      <td>islam</td>\n",
              "      <td>120</td>\n",
              "    </tr>\n",
              "    <tr>\n",
              "      <th>6</th>\n",
              "      <td>buddhism</td>\n",
              "      <td>89</td>\n",
              "    </tr>\n",
              "    <tr>\n",
              "      <th>13</th>\n",
              "      <td>hinduism</td>\n",
              "      <td>21</td>\n",
              "    </tr>\n",
              "  </tbody>\n",
              "</table>\n",
              "</div>\n",
              "      <button class=\"colab-df-convert\" onclick=\"convertToInteractive('df-5e33c716-d5f3-4959-bc28-2f462d763404')\"\n",
              "              title=\"Convert this dataframe to an interactive table.\"\n",
              "              style=\"display:none;\">\n",
              "        \n",
              "  <svg xmlns=\"http://www.w3.org/2000/svg\" height=\"24px\"viewBox=\"0 0 24 24\"\n",
              "       width=\"24px\">\n",
              "    <path d=\"M0 0h24v24H0V0z\" fill=\"none\"/>\n",
              "    <path d=\"M18.56 5.44l.94 2.06.94-2.06 2.06-.94-2.06-.94-.94-2.06-.94 2.06-2.06.94zm-11 1L8.5 8.5l.94-2.06 2.06-.94-2.06-.94L8.5 2.5l-.94 2.06-2.06.94zm10 10l.94 2.06.94-2.06 2.06-.94-2.06-.94-.94-2.06-.94 2.06-2.06.94z\"/><path d=\"M17.41 7.96l-1.37-1.37c-.4-.4-.92-.59-1.43-.59-.52 0-1.04.2-1.43.59L10.3 9.45l-7.72 7.72c-.78.78-.78 2.05 0 2.83L4 21.41c.39.39.9.59 1.41.59.51 0 1.02-.2 1.41-.59l7.78-7.78 2.81-2.81c.8-.78.8-2.07 0-2.86zM5.41 20L4 18.59l7.72-7.72 1.47 1.35L5.41 20z\"/>\n",
              "  </svg>\n",
              "      </button>\n",
              "      \n",
              "  <style>\n",
              "    .colab-df-container {\n",
              "      display:flex;\n",
              "      flex-wrap:wrap;\n",
              "      gap: 12px;\n",
              "    }\n",
              "\n",
              "    .colab-df-convert {\n",
              "      background-color: #E8F0FE;\n",
              "      border: none;\n",
              "      border-radius: 50%;\n",
              "      cursor: pointer;\n",
              "      display: none;\n",
              "      fill: #1967D2;\n",
              "      height: 32px;\n",
              "      padding: 0 0 0 0;\n",
              "      width: 32px;\n",
              "    }\n",
              "\n",
              "    .colab-df-convert:hover {\n",
              "      background-color: #E2EBFA;\n",
              "      box-shadow: 0px 1px 2px rgba(60, 64, 67, 0.3), 0px 1px 3px 1px rgba(60, 64, 67, 0.15);\n",
              "      fill: #174EA6;\n",
              "    }\n",
              "\n",
              "    [theme=dark] .colab-df-convert {\n",
              "      background-color: #3B4455;\n",
              "      fill: #D2E3FC;\n",
              "    }\n",
              "\n",
              "    [theme=dark] .colab-df-convert:hover {\n",
              "      background-color: #434B5C;\n",
              "      box-shadow: 0px 1px 3px 1px rgba(0, 0, 0, 0.15);\n",
              "      filter: drop-shadow(0px 1px 2px rgba(0, 0, 0, 0.3));\n",
              "      fill: #FFFFFF;\n",
              "    }\n",
              "  </style>\n",
              "\n",
              "      <script>\n",
              "        const buttonEl =\n",
              "          document.querySelector('#df-5e33c716-d5f3-4959-bc28-2f462d763404 button.colab-df-convert');\n",
              "        buttonEl.style.display =\n",
              "          google.colab.kernel.accessAllowed ? 'block' : 'none';\n",
              "\n",
              "        async function convertToInteractive(key) {\n",
              "          const element = document.querySelector('#df-5e33c716-d5f3-4959-bc28-2f462d763404');\n",
              "          const dataTable =\n",
              "            await google.colab.kernel.invokeFunction('convertToInteractive',\n",
              "                                                     [key], {});\n",
              "          if (!dataTable) return;\n",
              "\n",
              "          const docLinkHtml = 'Like what you see? Visit the ' +\n",
              "            '<a target=\"_blank\" href=https://colab.research.google.com/notebooks/data_table.ipynb>data table notebook</a>'\n",
              "            + ' to learn more about interactive tables.';\n",
              "          element.innerHTML = '';\n",
              "          dataTable['output_type'] = 'display_data';\n",
              "          await google.colab.output.renderOutput(dataTable, element);\n",
              "          const docLink = document.createElement('div');\n",
              "          docLink.innerHTML = docLinkHtml;\n",
              "          element.appendChild(docLink);\n",
              "        }\n",
              "      </script>\n",
              "    </div>\n",
              "  </div>\n",
              "  "
            ]
          },
          "metadata": {},
          "execution_count": 16
        }
      ]
    },
    {
      "cell_type": "markdown",
      "source": [
        "Podcasts are grouped into **26 categories**. Most podcasts fall under quite general culture, business and spirituality categories. The subjects of categories with the fewest podcasts are specific smaller religions."
      ],
      "metadata": {
        "id": "wiLOB7M99ya2"
      }
    },
    {
      "cell_type": "code",
      "source": [
        "categories_per_podcast = categories.groupby('podcast_id').count()\n",
        "multiple_categories = categories_per_podcast[categories_per_podcast['category'] > 1]"
      ],
      "metadata": {
        "id": "cVfvRPKzR58x"
      },
      "execution_count": 17,
      "outputs": []
    },
    {
      "cell_type": "code",
      "source": [
        "len(multiple_categories)"
      ],
      "metadata": {
        "colab": {
          "base_uri": "https://localhost:8080/"
        },
        "id": "Xgc40dbRWEL3",
        "outputId": "2c0cc384-721c-485c-8627-092d9e2020b6"
      },
      "execution_count": 18,
      "outputs": [
        {
          "output_type": "execute_result",
          "data": {
            "text/plain": [
              "18840"
            ]
          },
          "metadata": {},
          "execution_count": 18
        }
      ]
    },
    {
      "cell_type": "code",
      "source": [
        "'{:.2%}'.format(len(multiple_categories) / len(categories_per_podcast))"
      ],
      "metadata": {
        "id": "gm01k5hRktno",
        "outputId": "09567c57-5e95-44e8-f1b1-973f0e802c90",
        "colab": {
          "base_uri": "https://localhost:8080/",
          "height": 35
        }
      },
      "execution_count": 19,
      "outputs": [
        {
          "output_type": "execute_result",
          "data": {
            "text/plain": [
              "'40.35%'"
            ],
            "application/vnd.google.colaboratory.intrinsic+json": {
              "type": "string"
            }
          },
          "metadata": {},
          "execution_count": 19
        }
      ]
    },
    {
      "cell_type": "code",
      "source": [
        "multiple_categories.category.max()"
      ],
      "metadata": {
        "colab": {
          "base_uri": "https://localhost:8080/"
        },
        "id": "21ALnA3UOjGH",
        "outputId": "2ae337e9-8856-42dc-b6a7-54e6a3a2969c"
      },
      "execution_count": 20,
      "outputs": [
        {
          "output_type": "execute_result",
          "data": {
            "text/plain": [
              "6"
            ]
          },
          "metadata": {},
          "execution_count": 20
        }
      ]
    },
    {
      "cell_type": "markdown",
      "source": [
        "Some podcasts are assigned to more than one category. In fact, there are 18 840 such podcasts, which constitutes 40.35% out of the total podcast count. The most categories a podcast is assigned is 6."
      ],
      "metadata": {
        "id": "SaUvVyU8Xe0y"
      }
    },
    {
      "cell_type": "code",
      "source": [
        "category_combos = [frozenset(categories[categories['podcast_id'] == id].category) for id in categories.podcast_id.unique()]"
      ],
      "metadata": {
        "id": "TR_dd3ZQtZgf"
      },
      "execution_count": 21,
      "outputs": []
    },
    {
      "cell_type": "code",
      "source": [
        "c = Counter(category_combos)\n",
        "sorted(Counter(el for el in c.elements() if c[el] >= 1000).items(), key=lambda pair: pair[1], reverse=True)"
      ],
      "metadata": {
        "colab": {
          "base_uri": "https://localhost:8080/"
        },
        "id": "67WirwvDbjwm",
        "outputId": "2e7b7150-b68c-44f3-ecbe-be962f59f640"
      },
      "execution_count": 22,
      "outputs": [
        {
          "output_type": "execute_result",
          "data": {
            "text/plain": [
              "[(frozenset({'comedy'}), 5290),\n",
              " (frozenset({'society-culture'}), 4796),\n",
              " (frozenset({'christianity', 'religion-spirituality'}), 3729),\n",
              " (frozenset({'tv-film'}), 3263),\n",
              " (frozenset({'music'}), 3041),\n",
              " (frozenset({'education'}), 2829),\n",
              " (frozenset({'business'}), 2777),\n",
              " (frozenset({'arts'}), 1723),\n",
              " (frozenset({'technology'}), 1405),\n",
              " (frozenset({'religion-spirituality'}), 1363)]"
            ]
          },
          "metadata": {},
          "execution_count": 22
        }
      ]
    },
    {
      "cell_type": "markdown",
      "source": [
        "Category combinations are quite varied (there are a lot of different options) thus the only multiple category combination to be assigned to more than a 1000 podcasts is _christianity_ + _religion-spirituality_."
      ],
      "metadata": {
        "id": "BcGQrscqt_FT"
      }
    },
    {
      "cell_type": "code",
      "source": [
        "sorted(Counter(el for el in c.elements() if 1000 > c[el] >= 500).items(), key=lambda pair: pair[1], reverse=True)"
      ],
      "metadata": {
        "colab": {
          "base_uri": "https://localhost:8080/"
        },
        "id": "lKn5YP5Jut8z",
        "outputId": "d34a964e-0a41-4423-c218-7552e10fbad3"
      },
      "execution_count": 23,
      "outputs": [
        {
          "output_type": "execute_result",
          "data": {
            "text/plain": [
              "[(frozenset({'society-culture', 'society-culture-personal-journals'}), 877),\n",
              " (frozenset({'kids-family'}), 857),\n",
              " (frozenset({'comedy', 'tv-film'}), 814),\n",
              " (frozenset({'business', 'business-careers'}), 698),\n",
              " (frozenset({'comedy', 'society-culture'}), 639),\n",
              " (frozenset({'religion-spirituality', 'spirituality'}), 541),\n",
              " (frozenset({'business', 'education'}), 533)]"
            ]
          },
          "metadata": {},
          "execution_count": 23
        }
      ]
    },
    {
      "cell_type": "markdown",
      "source": [
        "When analysing combinations between 500 and 1000 instances, more multi-category combinations occur. The second and the third most common combo are _society-culture_+_society-culture-personal-journals_ and _comedy_+_tv-film_ respectively."
      ],
      "metadata": {
        "id": "2vaXXXh3wVBG"
      }
    },
    {
      "cell_type": "code",
      "source": [
        "podcasts = pd.read_sql('select * from podcasts', conn)"
      ],
      "metadata": {
        "id": "xpbzB4ob6cOI"
      },
      "execution_count": 24,
      "outputs": []
    },
    {
      "cell_type": "code",
      "source": [
        "assert podcast_count == len(podcasts)"
      ],
      "metadata": {
        "id": "UIrp-OUWkAWv"
      },
      "execution_count": 25,
      "outputs": []
    },
    {
      "cell_type": "code",
      "source": [
        "podcasts.head()"
      ],
      "metadata": {
        "colab": {
          "base_uri": "https://localhost:8080/",
          "height": 206
        },
        "id": "52njLdeR7gTk",
        "outputId": "77c3a9bc-88a3-4756-c610-dca56a8ae091"
      },
      "execution_count": 26,
      "outputs": [
        {
          "output_type": "execute_result",
          "data": {
            "text/plain": [
              "                         podcast_id   itunes_id  \\\n",
              "0  a00018b54eb342567c94dacfb2a3e504  1313466221   \n",
              "1  a00043d34e734b09246d17dc5d56f63c   158973461   \n",
              "2  a0004b1ef445af9dc84dad1e7821b1e3   139076942   \n",
              "3  a00071f9aaae9ac725c3a586701abf4d  1332508972   \n",
              "4  a000aa69852b276565c4f5eb9cdd999b  1342447811   \n",
              "\n",
              "                                    slug  \\\n",
              "0                         scaling-global   \n",
              "1  cornerstone-baptist-church-of-orlando   \n",
              "2            mystery-dancing-in-the-dark   \n",
              "3                      kts-money-matters   \n",
              "4                        speedway-soccer   \n",
              "\n",
              "                                          itunes_url  \\\n",
              "0  https://podcasts.apple.com/us/podcast/scaling-...   \n",
              "1  https://podcasts.apple.com/us/podcast/cornerst...   \n",
              "2  https://podcasts.apple.com/us/podcast/mystery-...   \n",
              "3  https://podcasts.apple.com/us/podcast/kts-mone...   \n",
              "4  https://podcasts.apple.com/us/podcast/speedway...   \n",
              "\n",
              "                                   title  \n",
              "0                         Scaling Global  \n",
              "1  Cornerstone Baptist Church of Orlando  \n",
              "2           Mystery: Dancing in the Dark  \n",
              "3                      KTs Money Matters  \n",
              "4                        Speedway Soccer  "
            ],
            "text/html": [
              "\n",
              "  <div id=\"df-5073d720-e436-49ed-9c0c-33e22b7e1439\">\n",
              "    <div class=\"colab-df-container\">\n",
              "      <div>\n",
              "<style scoped>\n",
              "    .dataframe tbody tr th:only-of-type {\n",
              "        vertical-align: middle;\n",
              "    }\n",
              "\n",
              "    .dataframe tbody tr th {\n",
              "        vertical-align: top;\n",
              "    }\n",
              "\n",
              "    .dataframe thead th {\n",
              "        text-align: right;\n",
              "    }\n",
              "</style>\n",
              "<table border=\"1\" class=\"dataframe\">\n",
              "  <thead>\n",
              "    <tr style=\"text-align: right;\">\n",
              "      <th></th>\n",
              "      <th>podcast_id</th>\n",
              "      <th>itunes_id</th>\n",
              "      <th>slug</th>\n",
              "      <th>itunes_url</th>\n",
              "      <th>title</th>\n",
              "    </tr>\n",
              "  </thead>\n",
              "  <tbody>\n",
              "    <tr>\n",
              "      <th>0</th>\n",
              "      <td>a00018b54eb342567c94dacfb2a3e504</td>\n",
              "      <td>1313466221</td>\n",
              "      <td>scaling-global</td>\n",
              "      <td>https://podcasts.apple.com/us/podcast/scaling-...</td>\n",
              "      <td>Scaling Global</td>\n",
              "    </tr>\n",
              "    <tr>\n",
              "      <th>1</th>\n",
              "      <td>a00043d34e734b09246d17dc5d56f63c</td>\n",
              "      <td>158973461</td>\n",
              "      <td>cornerstone-baptist-church-of-orlando</td>\n",
              "      <td>https://podcasts.apple.com/us/podcast/cornerst...</td>\n",
              "      <td>Cornerstone Baptist Church of Orlando</td>\n",
              "    </tr>\n",
              "    <tr>\n",
              "      <th>2</th>\n",
              "      <td>a0004b1ef445af9dc84dad1e7821b1e3</td>\n",
              "      <td>139076942</td>\n",
              "      <td>mystery-dancing-in-the-dark</td>\n",
              "      <td>https://podcasts.apple.com/us/podcast/mystery-...</td>\n",
              "      <td>Mystery: Dancing in the Dark</td>\n",
              "    </tr>\n",
              "    <tr>\n",
              "      <th>3</th>\n",
              "      <td>a00071f9aaae9ac725c3a586701abf4d</td>\n",
              "      <td>1332508972</td>\n",
              "      <td>kts-money-matters</td>\n",
              "      <td>https://podcasts.apple.com/us/podcast/kts-mone...</td>\n",
              "      <td>KTs Money Matters</td>\n",
              "    </tr>\n",
              "    <tr>\n",
              "      <th>4</th>\n",
              "      <td>a000aa69852b276565c4f5eb9cdd999b</td>\n",
              "      <td>1342447811</td>\n",
              "      <td>speedway-soccer</td>\n",
              "      <td>https://podcasts.apple.com/us/podcast/speedway...</td>\n",
              "      <td>Speedway Soccer</td>\n",
              "    </tr>\n",
              "  </tbody>\n",
              "</table>\n",
              "</div>\n",
              "      <button class=\"colab-df-convert\" onclick=\"convertToInteractive('df-5073d720-e436-49ed-9c0c-33e22b7e1439')\"\n",
              "              title=\"Convert this dataframe to an interactive table.\"\n",
              "              style=\"display:none;\">\n",
              "        \n",
              "  <svg xmlns=\"http://www.w3.org/2000/svg\" height=\"24px\"viewBox=\"0 0 24 24\"\n",
              "       width=\"24px\">\n",
              "    <path d=\"M0 0h24v24H0V0z\" fill=\"none\"/>\n",
              "    <path d=\"M18.56 5.44l.94 2.06.94-2.06 2.06-.94-2.06-.94-.94-2.06-.94 2.06-2.06.94zm-11 1L8.5 8.5l.94-2.06 2.06-.94-2.06-.94L8.5 2.5l-.94 2.06-2.06.94zm10 10l.94 2.06.94-2.06 2.06-.94-2.06-.94-.94-2.06-.94 2.06-2.06.94z\"/><path d=\"M17.41 7.96l-1.37-1.37c-.4-.4-.92-.59-1.43-.59-.52 0-1.04.2-1.43.59L10.3 9.45l-7.72 7.72c-.78.78-.78 2.05 0 2.83L4 21.41c.39.39.9.59 1.41.59.51 0 1.02-.2 1.41-.59l7.78-7.78 2.81-2.81c.8-.78.8-2.07 0-2.86zM5.41 20L4 18.59l7.72-7.72 1.47 1.35L5.41 20z\"/>\n",
              "  </svg>\n",
              "      </button>\n",
              "      \n",
              "  <style>\n",
              "    .colab-df-container {\n",
              "      display:flex;\n",
              "      flex-wrap:wrap;\n",
              "      gap: 12px;\n",
              "    }\n",
              "\n",
              "    .colab-df-convert {\n",
              "      background-color: #E8F0FE;\n",
              "      border: none;\n",
              "      border-radius: 50%;\n",
              "      cursor: pointer;\n",
              "      display: none;\n",
              "      fill: #1967D2;\n",
              "      height: 32px;\n",
              "      padding: 0 0 0 0;\n",
              "      width: 32px;\n",
              "    }\n",
              "\n",
              "    .colab-df-convert:hover {\n",
              "      background-color: #E2EBFA;\n",
              "      box-shadow: 0px 1px 2px rgba(60, 64, 67, 0.3), 0px 1px 3px 1px rgba(60, 64, 67, 0.15);\n",
              "      fill: #174EA6;\n",
              "    }\n",
              "\n",
              "    [theme=dark] .colab-df-convert {\n",
              "      background-color: #3B4455;\n",
              "      fill: #D2E3FC;\n",
              "    }\n",
              "\n",
              "    [theme=dark] .colab-df-convert:hover {\n",
              "      background-color: #434B5C;\n",
              "      box-shadow: 0px 1px 3px 1px rgba(0, 0, 0, 0.15);\n",
              "      filter: drop-shadow(0px 1px 2px rgba(0, 0, 0, 0.3));\n",
              "      fill: #FFFFFF;\n",
              "    }\n",
              "  </style>\n",
              "\n",
              "      <script>\n",
              "        const buttonEl =\n",
              "          document.querySelector('#df-5073d720-e436-49ed-9c0c-33e22b7e1439 button.colab-df-convert');\n",
              "        buttonEl.style.display =\n",
              "          google.colab.kernel.accessAllowed ? 'block' : 'none';\n",
              "\n",
              "        async function convertToInteractive(key) {\n",
              "          const element = document.querySelector('#df-5073d720-e436-49ed-9c0c-33e22b7e1439');\n",
              "          const dataTable =\n",
              "            await google.colab.kernel.invokeFunction('convertToInteractive',\n",
              "                                                     [key], {});\n",
              "          if (!dataTable) return;\n",
              "\n",
              "          const docLinkHtml = 'Like what you see? Visit the ' +\n",
              "            '<a target=\"_blank\" href=https://colab.research.google.com/notebooks/data_table.ipynb>data table notebook</a>'\n",
              "            + ' to learn more about interactive tables.';\n",
              "          element.innerHTML = '';\n",
              "          dataTable['output_type'] = 'display_data';\n",
              "          await google.colab.output.renderOutput(dataTable, element);\n",
              "          const docLink = document.createElement('div');\n",
              "          docLink.innerHTML = docLinkHtml;\n",
              "          element.appendChild(docLink);\n",
              "        }\n",
              "      </script>\n",
              "    </div>\n",
              "  </div>\n",
              "  "
            ]
          },
          "metadata": {},
          "execution_count": 26
        }
      ]
    },
    {
      "cell_type": "code",
      "source": [
        "podcasts.duplicated().any()"
      ],
      "metadata": {
        "colab": {
          "base_uri": "https://localhost:8080/"
        },
        "id": "UiV_CeUdD1nm",
        "outputId": "1331d184-51e0-49a4-c29a-adfd082a8828"
      },
      "execution_count": 27,
      "outputs": [
        {
          "output_type": "execute_result",
          "data": {
            "text/plain": [
              "False"
            ]
          },
          "metadata": {},
          "execution_count": 27
        }
      ]
    },
    {
      "cell_type": "code",
      "source": [
        "podcasts.isna().sum()"
      ],
      "metadata": {
        "colab": {
          "base_uri": "https://localhost:8080/"
        },
        "id": "KJbiiKqr3UIi",
        "outputId": "62c6b346-c123-4574-8c05-2b59d6668a1d"
      },
      "execution_count": 28,
      "outputs": [
        {
          "output_type": "execute_result",
          "data": {
            "text/plain": [
              "podcast_id    0\n",
              "itunes_id     0\n",
              "slug          0\n",
              "itunes_url    0\n",
              "title         0\n",
              "dtype: int64"
            ]
          },
          "metadata": {},
          "execution_count": 28
        }
      ]
    },
    {
      "cell_type": "markdown",
      "source": [
        "The _Podcasts_ table contains information about id, itunes_id, slug, url address and title on 46 693 podcasts (same number as in the _Categories_ table). The table does not contain duplicates or missing values."
      ],
      "metadata": {
        "id": "13WEBOt-6wpB"
      }
    },
    {
      "cell_type": "code",
      "source": [
        "reviews = pd.read_sql('select * from reviews', conn)\n",
        "len(reviews)"
      ],
      "metadata": {
        "id": "DL44PZDKpro_",
        "outputId": "43d5145b-78fe-4136-9a47-1639128ed20f",
        "colab": {
          "base_uri": "https://localhost:8080/"
        }
      },
      "execution_count": 29,
      "outputs": [
        {
          "output_type": "execute_result",
          "data": {
            "text/plain": [
              "1280337"
            ]
          },
          "metadata": {},
          "execution_count": 29
        }
      ]
    },
    {
      "cell_type": "code",
      "source": [
        "reviews_pod_count = pd.read_sql('select count(distinct podcast_id) as pod_count from reviews', conn)['pod_count'][0]\n",
        "reviews_pod_count"
      ],
      "metadata": {
        "colab": {
          "base_uri": "https://localhost:8080/"
        },
        "id": "MTGw1fkh2kb9",
        "outputId": "4ae691e8-0251-4278-a054-d9e4705d7a97"
      },
      "execution_count": 30,
      "outputs": [
        {
          "output_type": "execute_result",
          "data": {
            "text/plain": [
              "52986"
            ]
          },
          "metadata": {},
          "execution_count": 30
        }
      ]
    },
    {
      "cell_type": "markdown",
      "source": [
        "The _Reviews_ table contains information about 1 280 337 reviews' authors, timestamps, rating, review content and podcast ID. However, it also includes podcast IDs not referenced in the other tables as evident per greater podcast ID count (52 986 vs 46 693)."
      ],
      "metadata": {
        "id": "_kms2Sy53Nvg"
      }
    },
    {
      "cell_type": "code",
      "source": [
        "reviews.duplicated().sum()"
      ],
      "metadata": {
        "colab": {
          "base_uri": "https://localhost:8080/"
        },
        "id": "7y6Ki4l8EoPy",
        "outputId": "2129ad7a-305c-436d-ff0d-088814903e83"
      },
      "execution_count": 31,
      "outputs": [
        {
          "output_type": "execute_result",
          "data": {
            "text/plain": [
              "637"
            ]
          },
          "metadata": {},
          "execution_count": 31
        }
      ]
    },
    {
      "cell_type": "markdown",
      "source": [
        "The table contains 637 duplicate rows."
      ],
      "metadata": {
        "id": "zVVSRXm-GH09"
      }
    },
    {
      "cell_type": "markdown",
      "source": [
        "To access more relevant information, the _Reviews_ and _Podcasts_ tables will be joined, dropping duplicates and keeping only podcast IDs available in all of the tables."
      ],
      "metadata": {
        "id": "cFCTRQNP4T59"
      }
    },
    {
      "cell_type": "code",
      "source": [
        "podcast_revs = pd.read_sql('select distinct podcasts.title as podcast_title, reviews.* from reviews left join podcasts on reviews.podcast_id = podcasts.podcast_id', conn).dropna()\n",
        "podcast_revs.head()"
      ],
      "metadata": {
        "colab": {
          "base_uri": "https://localhost:8080/",
          "height": 250
        },
        "id": "DrEaP66nKS8R",
        "outputId": "9e6d99fd-b2ef-47f5-c032-48721a8c0a68"
      },
      "execution_count": 32,
      "outputs": [
        {
          "output_type": "execute_result",
          "data": {
            "text/plain": [
              "                podcast_title                        podcast_id  \\\n",
              "0  Backstage at Tilles Center  c61aa81c9b929a66f0c1db6cbe5d8548   \n",
              "1  Backstage at Tilles Center  c61aa81c9b929a66f0c1db6cbe5d8548   \n",
              "2             TED Talks Daily  ad4f2bf69c72b8db75978423c25f379e   \n",
              "3             TED Talks Daily  ad4f2bf69c72b8db75978423c25f379e   \n",
              "4             TED Talks Daily  ad4f2bf69c72b8db75978423c25f379e   \n",
              "\n",
              "                                              title  \\\n",
              "0                               really interesting!   \n",
              "1  Must listen for anyone interested in the arts!!!   \n",
              "2                                 nauseatingly left   \n",
              "3                                   Diverse stories   \n",
              "4                                              👍👍👍👍   \n",
              "\n",
              "                                             content  rating        author_id  \\\n",
              "0  Thanks for providing these insights.  Really e...       5  F7E5A318989779D   \n",
              "1  Super excited to see this podcast grow. So man...       5  F6BF5472689BD12   \n",
              "2  I'm a liberal myself, but its pretty obvious a...       1  1AB95B8E6E1309E   \n",
              "3  I find Tedx talks very inspirational but I oft...       5  11BB760AA5DEBD1   \n",
              "4                I love this podcast, it is so good.       5  D86032C8E57D15A   \n",
              "\n",
              "                  created_at  \n",
              "0  2018-04-24T12:05:16-07:00  \n",
              "1  2018-05-09T18:14:32-07:00  \n",
              "2  2019-06-11T14:53:39-07:00  \n",
              "3  2018-05-31T13:08:09-07:00  \n",
              "4  2019-06-19T13:56:05-07:00  "
            ],
            "text/html": [
              "\n",
              "  <div id=\"df-cfe12345-4eb8-43f6-828c-ef4cad177df4\">\n",
              "    <div class=\"colab-df-container\">\n",
              "      <div>\n",
              "<style scoped>\n",
              "    .dataframe tbody tr th:only-of-type {\n",
              "        vertical-align: middle;\n",
              "    }\n",
              "\n",
              "    .dataframe tbody tr th {\n",
              "        vertical-align: top;\n",
              "    }\n",
              "\n",
              "    .dataframe thead th {\n",
              "        text-align: right;\n",
              "    }\n",
              "</style>\n",
              "<table border=\"1\" class=\"dataframe\">\n",
              "  <thead>\n",
              "    <tr style=\"text-align: right;\">\n",
              "      <th></th>\n",
              "      <th>podcast_title</th>\n",
              "      <th>podcast_id</th>\n",
              "      <th>title</th>\n",
              "      <th>content</th>\n",
              "      <th>rating</th>\n",
              "      <th>author_id</th>\n",
              "      <th>created_at</th>\n",
              "    </tr>\n",
              "  </thead>\n",
              "  <tbody>\n",
              "    <tr>\n",
              "      <th>0</th>\n",
              "      <td>Backstage at Tilles Center</td>\n",
              "      <td>c61aa81c9b929a66f0c1db6cbe5d8548</td>\n",
              "      <td>really interesting!</td>\n",
              "      <td>Thanks for providing these insights.  Really e...</td>\n",
              "      <td>5</td>\n",
              "      <td>F7E5A318989779D</td>\n",
              "      <td>2018-04-24T12:05:16-07:00</td>\n",
              "    </tr>\n",
              "    <tr>\n",
              "      <th>1</th>\n",
              "      <td>Backstage at Tilles Center</td>\n",
              "      <td>c61aa81c9b929a66f0c1db6cbe5d8548</td>\n",
              "      <td>Must listen for anyone interested in the arts!!!</td>\n",
              "      <td>Super excited to see this podcast grow. So man...</td>\n",
              "      <td>5</td>\n",
              "      <td>F6BF5472689BD12</td>\n",
              "      <td>2018-05-09T18:14:32-07:00</td>\n",
              "    </tr>\n",
              "    <tr>\n",
              "      <th>2</th>\n",
              "      <td>TED Talks Daily</td>\n",
              "      <td>ad4f2bf69c72b8db75978423c25f379e</td>\n",
              "      <td>nauseatingly left</td>\n",
              "      <td>I'm a liberal myself, but its pretty obvious a...</td>\n",
              "      <td>1</td>\n",
              "      <td>1AB95B8E6E1309E</td>\n",
              "      <td>2019-06-11T14:53:39-07:00</td>\n",
              "    </tr>\n",
              "    <tr>\n",
              "      <th>3</th>\n",
              "      <td>TED Talks Daily</td>\n",
              "      <td>ad4f2bf69c72b8db75978423c25f379e</td>\n",
              "      <td>Diverse stories</td>\n",
              "      <td>I find Tedx talks very inspirational but I oft...</td>\n",
              "      <td>5</td>\n",
              "      <td>11BB760AA5DEBD1</td>\n",
              "      <td>2018-05-31T13:08:09-07:00</td>\n",
              "    </tr>\n",
              "    <tr>\n",
              "      <th>4</th>\n",
              "      <td>TED Talks Daily</td>\n",
              "      <td>ad4f2bf69c72b8db75978423c25f379e</td>\n",
              "      <td>👍👍👍👍</td>\n",
              "      <td>I love this podcast, it is so good.</td>\n",
              "      <td>5</td>\n",
              "      <td>D86032C8E57D15A</td>\n",
              "      <td>2019-06-19T13:56:05-07:00</td>\n",
              "    </tr>\n",
              "  </tbody>\n",
              "</table>\n",
              "</div>\n",
              "      <button class=\"colab-df-convert\" onclick=\"convertToInteractive('df-cfe12345-4eb8-43f6-828c-ef4cad177df4')\"\n",
              "              title=\"Convert this dataframe to an interactive table.\"\n",
              "              style=\"display:none;\">\n",
              "        \n",
              "  <svg xmlns=\"http://www.w3.org/2000/svg\" height=\"24px\"viewBox=\"0 0 24 24\"\n",
              "       width=\"24px\">\n",
              "    <path d=\"M0 0h24v24H0V0z\" fill=\"none\"/>\n",
              "    <path d=\"M18.56 5.44l.94 2.06.94-2.06 2.06-.94-2.06-.94-.94-2.06-.94 2.06-2.06.94zm-11 1L8.5 8.5l.94-2.06 2.06-.94-2.06-.94L8.5 2.5l-.94 2.06-2.06.94zm10 10l.94 2.06.94-2.06 2.06-.94-2.06-.94-.94-2.06-.94 2.06-2.06.94z\"/><path d=\"M17.41 7.96l-1.37-1.37c-.4-.4-.92-.59-1.43-.59-.52 0-1.04.2-1.43.59L10.3 9.45l-7.72 7.72c-.78.78-.78 2.05 0 2.83L4 21.41c.39.39.9.59 1.41.59.51 0 1.02-.2 1.41-.59l7.78-7.78 2.81-2.81c.8-.78.8-2.07 0-2.86zM5.41 20L4 18.59l7.72-7.72 1.47 1.35L5.41 20z\"/>\n",
              "  </svg>\n",
              "      </button>\n",
              "      \n",
              "  <style>\n",
              "    .colab-df-container {\n",
              "      display:flex;\n",
              "      flex-wrap:wrap;\n",
              "      gap: 12px;\n",
              "    }\n",
              "\n",
              "    .colab-df-convert {\n",
              "      background-color: #E8F0FE;\n",
              "      border: none;\n",
              "      border-radius: 50%;\n",
              "      cursor: pointer;\n",
              "      display: none;\n",
              "      fill: #1967D2;\n",
              "      height: 32px;\n",
              "      padding: 0 0 0 0;\n",
              "      width: 32px;\n",
              "    }\n",
              "\n",
              "    .colab-df-convert:hover {\n",
              "      background-color: #E2EBFA;\n",
              "      box-shadow: 0px 1px 2px rgba(60, 64, 67, 0.3), 0px 1px 3px 1px rgba(60, 64, 67, 0.15);\n",
              "      fill: #174EA6;\n",
              "    }\n",
              "\n",
              "    [theme=dark] .colab-df-convert {\n",
              "      background-color: #3B4455;\n",
              "      fill: #D2E3FC;\n",
              "    }\n",
              "\n",
              "    [theme=dark] .colab-df-convert:hover {\n",
              "      background-color: #434B5C;\n",
              "      box-shadow: 0px 1px 3px 1px rgba(0, 0, 0, 0.15);\n",
              "      filter: drop-shadow(0px 1px 2px rgba(0, 0, 0, 0.3));\n",
              "      fill: #FFFFFF;\n",
              "    }\n",
              "  </style>\n",
              "\n",
              "      <script>\n",
              "        const buttonEl =\n",
              "          document.querySelector('#df-cfe12345-4eb8-43f6-828c-ef4cad177df4 button.colab-df-convert');\n",
              "        buttonEl.style.display =\n",
              "          google.colab.kernel.accessAllowed ? 'block' : 'none';\n",
              "\n",
              "        async function convertToInteractive(key) {\n",
              "          const element = document.querySelector('#df-cfe12345-4eb8-43f6-828c-ef4cad177df4');\n",
              "          const dataTable =\n",
              "            await google.colab.kernel.invokeFunction('convertToInteractive',\n",
              "                                                     [key], {});\n",
              "          if (!dataTable) return;\n",
              "\n",
              "          const docLinkHtml = 'Like what you see? Visit the ' +\n",
              "            '<a target=\"_blank\" href=https://colab.research.google.com/notebooks/data_table.ipynb>data table notebook</a>'\n",
              "            + ' to learn more about interactive tables.';\n",
              "          element.innerHTML = '';\n",
              "          dataTable['output_type'] = 'display_data';\n",
              "          await google.colab.output.renderOutput(dataTable, element);\n",
              "          const docLink = document.createElement('div');\n",
              "          docLink.innerHTML = docLinkHtml;\n",
              "          element.appendChild(docLink);\n",
              "        }\n",
              "      </script>\n",
              "    </div>\n",
              "  </div>\n",
              "  "
            ]
          },
          "metadata": {},
          "execution_count": 32
        }
      ]
    },
    {
      "cell_type": "code",
      "source": [
        "len(podcast_revs)"
      ],
      "metadata": {
        "id": "aFYoUoZSL9jk",
        "outputId": "c6ae570f-c444-473e-c79b-c2acd5dbe101",
        "colab": {
          "base_uri": "https://localhost:8080/"
        }
      },
      "execution_count": 33,
      "outputs": [
        {
          "output_type": "execute_result",
          "data": {
            "text/plain": [
              "983923"
            ]
          },
          "metadata": {},
          "execution_count": 33
        }
      ]
    },
    {
      "cell_type": "markdown",
      "source": [
        "The database contains 983 923 unique reviews on the podcasts in the database."
      ],
      "metadata": {
        "id": "sQ5Oe5p5KG9R"
      }
    },
    {
      "cell_type": "markdown",
      "source": [
        "## Ratings overview"
      ],
      "metadata": {
        "id": "22x4Cd4E4tD1"
      }
    },
    {
      "cell_type": "code",
      "source": [
        "ratings_count = podcast_revs.rating.value_counts()\n",
        "fig, ax = plt.subplots(figsize=(7,7))\n",
        "plot_axes()\n",
        "ratings_count_plot = sns.barplot(x=ratings_count.index, y=ratings_count.values)\n",
        "show_values(ratings_count_plot, space=5000, decimals=0)\n",
        "plot_labels('Total ratings count', 'Received rating', 'Review count')\n",
        "plt.show()"
      ],
      "metadata": {
        "colab": {
          "base_uri": "https://localhost:8080/",
          "height": 458
        },
        "id": "i1cgxCRWKSSy",
        "outputId": "1ee64dbb-fa2f-4698-e90b-8bd24fde4cc9"
      },
      "execution_count": 34,
      "outputs": [
        {
          "output_type": "display_data",
          "data": {
            "text/plain": [
              "<Figure size 504x504 with 1 Axes>"
            ],
            "image/png": "[encoded data removed]"
          },
          "metadata": {}
        }
      ]
    },
    {
      "cell_type": "markdown",
      "source": [
        "The vast majority (869 342 out of 983 923) of the reviews receive a rating of 5 stars. The 1 star reviews are the second most prominent option chosen."
      ],
      "metadata": {
        "id": "xrwG6eeUVN1m"
      }
    },
    {
      "cell_type": "markdown",
      "source": [
        "### Ratings across categories"
      ],
      "metadata": {
        "id": "J6bCRXWyxNBy"
      }
    },
    {
      "cell_type": "code",
      "source": [
        "reviews_categories = podcast_revs.merge(categories, left_on='podcast_id', right_on='podcast_id')\n",
        "reviews_categories.shape"
      ],
      "metadata": {
        "colab": {
          "base_uri": "https://localhost:8080/"
        },
        "id": "Ybi01396PCif",
        "outputId": "b473bcfc-88b7-413e-f6f0-6744afd47c5a"
      },
      "execution_count": 35,
      "outputs": [
        {
          "output_type": "execute_result",
          "data": {
            "text/plain": [
              "(1565633, 8)"
            ]
          },
          "metadata": {},
          "execution_count": 35
        }
      ]
    },
    {
      "cell_type": "code",
      "source": [
        "revs_per_category = reviews_categories.category.value_counts()\n",
        "\n",
        "fig, ax = plt.subplots(figsize=(7,10))\n",
        "plot_axes(x_visible=True, bottom_spine=False)\n",
        "\n",
        "revs_per_category_plot = sns.barplot(y=revs_per_category.index, x=revs_per_category.values, palette='summer')\n",
        "show_values(revs_per_category_plot, orient='h', space=1, decimals=0)\n",
        "plot_labels('Total reviews per category','Review count', 'Categories')\n",
        "\n",
        "plt.show()"
      ],
      "metadata": {
        "id": "qsKht59dm6sr",
        "outputId": "d1c1b84e-39c1-49d0-ca38-0b24e8933b3f",
        "colab": {
          "base_uri": "https://localhost:8080/",
          "height": 621
        }
      },
      "execution_count": 36,
      "outputs": [
        {
          "output_type": "display_data",
          "data": {
            "text/plain": [
              "<Figure size 504x720 with 1 Axes>"
            ],
            "image/png": "[encoded data removed]"
          },
          "metadata": {}
        }
      ]
    },
    {
      "cell_type": "markdown",
      "source": [
        "The plot indicates the top 2 categories to receive the most reviews are society-culture and comedy. The top 5 positions are similar to the total podcast category count, but education and tv-film categories contain less podcasts than arts and religion-spirituality, yet they receive more reviews.\n",
        "\n",
        " Similarly, the bottom 5 positions are almost the same, but arts-design category has more podcasts assigned than reviews received compared to arts-fashion-beauty category."
      ],
      "metadata": {
        "id": "pTWN9RFoikJ3"
      }
    },
    {
      "cell_type": "markdown",
      "source": [
        "40% of the podcasts are assigned to more than one category, thus when combining review data with categories data, we inevitably get duplicate reviews assigned to different categories."
      ],
      "metadata": {
        "id": "F5eBOJm9mJwH"
      }
    },
    {
      "cell_type": "code",
      "source": [
        "cat_mean_rating = reviews_categories.groupby('category').mean()['rating'].sort_values(ascending=False)"
      ],
      "metadata": {
        "id": "DPRld-Ylqak7"
      },
      "execution_count": 37,
      "outputs": []
    },
    {
      "cell_type": "code",
      "source": [
        "cat_mean_rating.loc[[cat_mean_rating.idxmax()]].append(cat_mean_rating.loc[[cat_mean_rating.idxmin()]])"
      ],
      "metadata": {
        "colab": {
          "base_uri": "https://localhost:8080/"
        },
        "id": "eXAsJYL2niM9",
        "outputId": "e5de017f-ab73-45ad-cbea-290d00c3f0f5"
      },
      "execution_count": 38,
      "outputs": [
        {
          "output_type": "execute_result",
          "data": {
            "text/plain": [
              "category\n",
              "business-careers    4.886755\n",
              "tv-film             4.518136\n",
              "Name: rating, dtype: float64"
            ]
          },
          "metadata": {},
          "execution_count": 38
        }
      ]
    },
    {
      "cell_type": "code",
      "source": [
        "fig, ax = plt.subplots(figsize=(7,1))\n",
        "plot_axes(x_visible=True)\n",
        "sns.boxplot(cat_mean_rating)\n",
        "plot_labels('Distribution of average rating across categories', 'Average rating per category');"
      ],
      "metadata": {
        "colab": {
          "base_uri": "https://localhost:8080/",
          "height": 132
        },
        "id": "Cc3wlQEslmTT",
        "outputId": "aa323130-3bc4-4182-d104-64aeaa419dab"
      },
      "execution_count": 39,
      "outputs": [
        {
          "output_type": "display_data",
          "data": {
            "text/plain": [
              "<Figure size 504x72 with 1 Axes>"
            ],
            "image/png": "[encoded data removed]"
          },
          "metadata": {}
        }
      ]
    },
    {
      "cell_type": "markdown",
      "source": [
        "*Business-careers* podcasts are best-rated among all of the categories while *tv-film* category receives the worst ratings on average. However, none of the categories receive abnormally better or worst reviews on average. Most categories receive an average rating between 4.6 to 4.8"
      ],
      "metadata": {
        "id": "kaq05F_5nRPr"
      }
    },
    {
      "cell_type": "markdown",
      "source": [
        "## Review count overview"
      ],
      "metadata": {
        "id": "6IJR-NSWxTke"
      }
    },
    {
      "cell_type": "code",
      "source": [
        "podcast_revs.groupby('podcast_id').count()['title'].describe()"
      ],
      "metadata": {
        "colab": {
          "base_uri": "https://localhost:8080/"
        },
        "id": "JN7miPJPLsqS",
        "outputId": "832da732-b541-4468-dc7d-a03a47e27f5b"
      },
      "execution_count": 40,
      "outputs": [
        {
          "output_type": "execute_result",
          "data": {
            "text/plain": [
              "count    46693.000000\n",
              "mean        21.072174\n",
              "std        123.851899\n",
              "min          1.000000\n",
              "25%          1.000000\n",
              "50%          3.000000\n",
              "75%          9.000000\n",
              "max       9171.000000\n",
              "Name: title, dtype: float64"
            ]
          },
          "metadata": {},
          "execution_count": 40
        }
      ]
    },
    {
      "cell_type": "code",
      "source": [
        "top_pod = podcast_revs.podcast_title.value_counts().idxmax()"
      ],
      "metadata": {
        "id": "SMlAB4aoG2FX"
      },
      "execution_count": 41,
      "outputs": []
    },
    {
      "cell_type": "code",
      "source": [
        "pd.read_sql(f'select categories.category, podcasts.title as podcast_title from categories left join podcasts on categories.podcast_id = podcasts.podcast_id where podcasts.title = \"{top_pod}\"', conn)"
      ],
      "metadata": {
        "colab": {
          "base_uri": "https://localhost:8080/",
          "height": 81
        },
        "id": "psjyiIceKd-y",
        "outputId": "dcf1152a-dc13-4ca2-9a23-e07363d4e796"
      },
      "execution_count": 42,
      "outputs": [
        {
          "output_type": "execute_result",
          "data": {
            "text/plain": [
              "  category                                      podcast_title\n",
              "0   comedy  My Favorite Murder with Karen Kilgariff and Ge..."
            ],
            "text/html": [
              "\n",
              "  <div id=\"df-341ccb50-6fb7-47b2-81dc-c8d3d80abc84\">\n",
              "    <div class=\"colab-df-container\">\n",
              "      <div>\n",
              "<style scoped>\n",
              "    .dataframe tbody tr th:only-of-type {\n",
              "        vertical-align: middle;\n",
              "    }\n",
              "\n",
              "    .dataframe tbody tr th {\n",
              "        vertical-align: top;\n",
              "    }\n",
              "\n",
              "    .dataframe thead th {\n",
              "        text-align: right;\n",
              "    }\n",
              "</style>\n",
              "<table border=\"1\" class=\"dataframe\">\n",
              "  <thead>\n",
              "    <tr style=\"text-align: right;\">\n",
              "      <th></th>\n",
              "      <th>category</th>\n",
              "      <th>podcast_title</th>\n",
              "    </tr>\n",
              "  </thead>\n",
              "  <tbody>\n",
              "    <tr>\n",
              "      <th>0</th>\n",
              "      <td>comedy</td>\n",
              "      <td>My Favorite Murder with Karen Kilgariff and Ge...</td>\n",
              "    </tr>\n",
              "  </tbody>\n",
              "</table>\n",
              "</div>\n",
              "      <button class=\"colab-df-convert\" onclick=\"convertToInteractive('df-341ccb50-6fb7-47b2-81dc-c8d3d80abc84')\"\n",
              "              title=\"Convert this dataframe to an interactive table.\"\n",
              "              style=\"display:none;\">\n",
              "        \n",
              "  <svg xmlns=\"http://www.w3.org/2000/svg\" height=\"24px\"viewBox=\"0 0 24 24\"\n",
              "       width=\"24px\">\n",
              "    <path d=\"M0 0h24v24H0V0z\" fill=\"none\"/>\n",
              "    <path d=\"M18.56 5.44l.94 2.06.94-2.06 2.06-.94-2.06-.94-.94-2.06-.94 2.06-2.06.94zm-11 1L8.5 8.5l.94-2.06 2.06-.94-2.06-.94L8.5 2.5l-.94 2.06-2.06.94zm10 10l.94 2.06.94-2.06 2.06-.94-2.06-.94-.94-2.06-.94 2.06-2.06.94z\"/><path d=\"M17.41 7.96l-1.37-1.37c-.4-.4-.92-.59-1.43-.59-.52 0-1.04.2-1.43.59L10.3 9.45l-7.72 7.72c-.78.78-.78 2.05 0 2.83L4 21.41c.39.39.9.59 1.41.59.51 0 1.02-.2 1.41-.59l7.78-7.78 2.81-2.81c.8-.78.8-2.07 0-2.86zM5.41 20L4 18.59l7.72-7.72 1.47 1.35L5.41 20z\"/>\n",
              "  </svg>\n",
              "      </button>\n",
              "      \n",
              "  <style>\n",
              "    .colab-df-container {\n",
              "      display:flex;\n",
              "      flex-wrap:wrap;\n",
              "      gap: 12px;\n",
              "    }\n",
              "\n",
              "    .colab-df-convert {\n",
              "      background-color: #E8F0FE;\n",
              "      border: none;\n",
              "      border-radius: 50%;\n",
              "      cursor: pointer;\n",
              "      display: none;\n",
              "      fill: #1967D2;\n",
              "      height: 32px;\n",
              "      padding: 0 0 0 0;\n",
              "      width: 32px;\n",
              "    }\n",
              "\n",
              "    .colab-df-convert:hover {\n",
              "      background-color: #E2EBFA;\n",
              "      box-shadow: 0px 1px 2px rgba(60, 64, 67, 0.3), 0px 1px 3px 1px rgba(60, 64, 67, 0.15);\n",
              "      fill: #174EA6;\n",
              "    }\n",
              "\n",
              "    [theme=dark] .colab-df-convert {\n",
              "      background-color: #3B4455;\n",
              "      fill: #D2E3FC;\n",
              "    }\n",
              "\n",
              "    [theme=dark] .colab-df-convert:hover {\n",
              "      background-color: #434B5C;\n",
              "      box-shadow: 0px 1px 3px 1px rgba(0, 0, 0, 0.15);\n",
              "      filter: drop-shadow(0px 1px 2px rgba(0, 0, 0, 0.3));\n",
              "      fill: #FFFFFF;\n",
              "    }\n",
              "  </style>\n",
              "\n",
              "      <script>\n",
              "        const buttonEl =\n",
              "          document.querySelector('#df-341ccb50-6fb7-47b2-81dc-c8d3d80abc84 button.colab-df-convert');\n",
              "        buttonEl.style.display =\n",
              "          google.colab.kernel.accessAllowed ? 'block' : 'none';\n",
              "\n",
              "        async function convertToInteractive(key) {\n",
              "          const element = document.querySelector('#df-341ccb50-6fb7-47b2-81dc-c8d3d80abc84');\n",
              "          const dataTable =\n",
              "            await google.colab.kernel.invokeFunction('convertToInteractive',\n",
              "                                                     [key], {});\n",
              "          if (!dataTable) return;\n",
              "\n",
              "          const docLinkHtml = 'Like what you see? Visit the ' +\n",
              "            '<a target=\"_blank\" href=https://colab.research.google.com/notebooks/data_table.ipynb>data table notebook</a>'\n",
              "            + ' to learn more about interactive tables.';\n",
              "          element.innerHTML = '';\n",
              "          dataTable['output_type'] = 'display_data';\n",
              "          await google.colab.output.renderOutput(dataTable, element);\n",
              "          const docLink = document.createElement('div');\n",
              "          docLink.innerHTML = docLinkHtml;\n",
              "          element.appendChild(docLink);\n",
              "        }\n",
              "      </script>\n",
              "    </div>\n",
              "  </div>\n",
              "  "
            ]
          },
          "metadata": {},
          "execution_count": 42
        }
      ]
    },
    {
      "cell_type": "markdown",
      "source": [
        "On average, a podcast receives 21.07 reviews. Quite a lot of podcasts receive very few reviews as the interquartile range for review count is 1-9 reviews per podcast.\n",
        "\n",
        "The maximum number of reviews a podcast has received was 9 171 (a comedy podcast \"My Favorite Murder with Karen Kilgariff and Georgia Hardstark\")."
      ],
      "metadata": {
        "id": "YER2wfoBMoAW"
      }
    },
    {
      "cell_type": "markdown",
      "source": [
        "_________________"
      ],
      "metadata": {
        "id": "VMkqbqPFQRu3"
      }
    },
    {
      "cell_type": "markdown",
      "source": [
        "# Data Science podcast case"
      ],
      "metadata": {
        "id": "CX5O6602T_li"
      }
    },
    {
      "cell_type": "markdown",
      "source": [
        "We are to release a podcast aimed at Data Science enthusiasts. The podcast will cover various topics from industry trends to learning strategies to achieve the best result faster in one's journey to become the best Data Scientist.\n",
        "\n",
        "The question now arises: how should this podcast be categorized? Is it an education or a technology podcast? Maybe both? \n",
        "\n",
        "The review count is an indicator of the podcasts popularity, while rating is a reflection of it's quality. However, could it be that one group of listeners is more forgiving in their grading than others?"
      ],
      "metadata": {
        "id": "29Lyq3PUSpB_"
      }
    },
    {
      "cell_type": "code",
      "source": [
        "double_category_pods = pd.read_sql('select podcast_id from categories where category = \"technology\" or category = \"education\" group by podcast_id having count(category) == 2', conn)\n",
        "double_category_pods['category'] = 'tech-ed'\n",
        "double_cat_reviews = double_category_pods.merge(podcast_revs, how='left', left_on='podcast_id', right_on='podcast_id')"
      ],
      "metadata": {
        "id": "WyUUufhSD1X2"
      },
      "execution_count": 43,
      "outputs": []
    },
    {
      "cell_type": "code",
      "source": [
        "single_category_pods = pd.read_sql('select * from categories where category = \"technology\" or category = \"education\" group by podcast_id having count(category) == 1', conn)\n",
        "single_cat_reviews = single_category_pods.merge(podcast_revs, how='left', left_on='podcast_id', right_on='podcast_id')"
      ],
      "metadata": {
        "id": "_cdJgWb5UxJy"
      },
      "execution_count": 44,
      "outputs": []
    },
    {
      "cell_type": "code",
      "source": [
        "tech_ed_reviews = pd.concat([single_cat_reviews, double_cat_reviews], ignore_index=True)"
      ],
      "metadata": {
        "id": "nBKndHJyGmzN"
      },
      "execution_count": 45,
      "outputs": []
    },
    {
      "cell_type": "markdown",
      "source": [
        "## Review count"
      ],
      "metadata": {
        "id": "nqdV8o7wrbhb"
      }
    },
    {
      "cell_type": "markdown",
      "source": [
        "Review count is accociated with a podcasts popularity - we can assume that the more reviews a podcast receives, the more listeners it attracts.\n",
        "\n",
        "To determine how the new podcast shuld be categorized, we can look at the review count (i.e. measure of popularity) across all three options."
      ],
      "metadata": {
        "id": "4NGpaja8mBx7"
      }
    },
    {
      "cell_type": "code",
      "source": [
        "review_count_per_id = tech_ed_reviews.groupby(['podcast_id']).size().rename('review_count')\n",
        "review_count_per_cat = tech_ed_reviews[['podcast_id', 'category']].drop_duplicates(['podcast_id']).merge(review_count_per_id, how='inner', left_on='podcast_id', right_on='podcast_id')"
      ],
      "metadata": {
        "id": "j91HLjVRSa2h"
      },
      "execution_count": 46,
      "outputs": []
    },
    {
      "cell_type": "code",
      "source": [
        "fig, ax = plt.subplots(figsize=(15, 3))\n",
        "sns.boxplot(data=review_count_per_cat, x='review_count', y='category', showfliers = False, order=['education', 'tech-ed', 'technology'])\n",
        "plt.xlim(0)\n",
        "\n",
        "plot_labels('Review count distribution across categories', 'Review per podcast count', 'Category');"
      ],
      "metadata": {
        "colab": {
          "base_uri": "https://localhost:8080/",
          "height": 241
        },
        "id": "NGOYA-5EoS41",
        "outputId": "13cd780c-85e5-46e6-ffbe-4cb3f436e3ff"
      },
      "execution_count": 47,
      "outputs": [
        {
          "output_type": "display_data",
          "data": {
            "text/plain": [
              "<Figure size 1080x216 with 1 Axes>"
            ],
            "image/png": "[encoded data removed]"
          },
          "metadata": {}
        }
      ]
    },
    {
      "cell_type": "markdown",
      "source": [
        "The plot above illustated the review count distribution across the categories. However, it omits outliers and only provides a zoomed in version of the boxplot for a clearerer comparison."
      ],
      "metadata": {
        "id": "EfSsGFpRmyLm"
      }
    },
    {
      "cell_type": "code",
      "source": [
        "review_count_per_cat.groupby('category').describe()"
      ],
      "metadata": {
        "colab": {
          "base_uri": "https://localhost:8080/",
          "height": 206
        },
        "id": "XR3hrgnuvq-4",
        "outputId": "d494db0e-edf3-4984-949e-337d147ca357"
      },
      "execution_count": 48,
      "outputs": [
        {
          "output_type": "execute_result",
          "data": {
            "text/plain": [
              "           review_count                                                   \n",
              "                  count       mean        std  min  25%  50%   75%     max\n",
              "category                                                                  \n",
              "education        5110.0  22.915068  97.064417  1.0  1.0  4.0  13.0  4335.0\n",
              "tech-ed           224.0  12.250000  27.712327  1.0  1.0  3.0  10.0   259.0\n",
              "technology       2104.0  15.597909  68.041839  1.0  1.0  3.0   8.0  2067.0"
            ],
            "text/html": [
              "\n",
              "  <div id=\"df-dc1d2d00-5744-4c53-8589-167210f5a989\">\n",
              "    <div class=\"colab-df-container\">\n",
              "      <div>\n",
              "<style scoped>\n",
              "    .dataframe tbody tr th:only-of-type {\n",
              "        vertical-align: middle;\n",
              "    }\n",
              "\n",
              "    .dataframe tbody tr th {\n",
              "        vertical-align: top;\n",
              "    }\n",
              "\n",
              "    .dataframe thead tr th {\n",
              "        text-align: left;\n",
              "    }\n",
              "\n",
              "    .dataframe thead tr:last-of-type th {\n",
              "        text-align: right;\n",
              "    }\n",
              "</style>\n",
              "<table border=\"1\" class=\"dataframe\">\n",
              "  <thead>\n",
              "    <tr>\n",
              "      <th></th>\n",
              "      <th colspan=\"8\" halign=\"left\">review_count</th>\n",
              "    </tr>\n",
              "    <tr>\n",
              "      <th></th>\n",
              "      <th>count</th>\n",
              "      <th>mean</th>\n",
              "      <th>std</th>\n",
              "      <th>min</th>\n",
              "      <th>25%</th>\n",
              "      <th>50%</th>\n",
              "      <th>75%</th>\n",
              "      <th>max</th>\n",
              "    </tr>\n",
              "    <tr>\n",
              "      <th>category</th>\n",
              "      <th></th>\n",
              "      <th></th>\n",
              "      <th></th>\n",
              "      <th></th>\n",
              "      <th></th>\n",
              "      <th></th>\n",
              "      <th></th>\n",
              "      <th></th>\n",
              "    </tr>\n",
              "  </thead>\n",
              "  <tbody>\n",
              "    <tr>\n",
              "      <th>education</th>\n",
              "      <td>5110.0</td>\n",
              "      <td>22.915068</td>\n",
              "      <td>97.064417</td>\n",
              "      <td>1.0</td>\n",
              "      <td>1.0</td>\n",
              "      <td>4.0</td>\n",
              "      <td>13.0</td>\n",
              "      <td>4335.0</td>\n",
              "    </tr>\n",
              "    <tr>\n",
              "      <th>tech-ed</th>\n",
              "      <td>224.0</td>\n",
              "      <td>12.250000</td>\n",
              "      <td>27.712327</td>\n",
              "      <td>1.0</td>\n",
              "      <td>1.0</td>\n",
              "      <td>3.0</td>\n",
              "      <td>10.0</td>\n",
              "      <td>259.0</td>\n",
              "    </tr>\n",
              "    <tr>\n",
              "      <th>technology</th>\n",
              "      <td>2104.0</td>\n",
              "      <td>15.597909</td>\n",
              "      <td>68.041839</td>\n",
              "      <td>1.0</td>\n",
              "      <td>1.0</td>\n",
              "      <td>3.0</td>\n",
              "      <td>8.0</td>\n",
              "      <td>2067.0</td>\n",
              "    </tr>\n",
              "  </tbody>\n",
              "</table>\n",
              "</div>\n",
              "      <button class=\"colab-df-convert\" onclick=\"convertToInteractive('df-dc1d2d00-5744-4c53-8589-167210f5a989')\"\n",
              "              title=\"Convert this dataframe to an interactive table.\"\n",
              "              style=\"display:none;\">\n",
              "        \n",
              "  <svg xmlns=\"http://www.w3.org/2000/svg\" height=\"24px\"viewBox=\"0 0 24 24\"\n",
              "       width=\"24px\">\n",
              "    <path d=\"M0 0h24v24H0V0z\" fill=\"none\"/>\n",
              "    <path d=\"M18.56 5.44l.94 2.06.94-2.06 2.06-.94-2.06-.94-.94-2.06-.94 2.06-2.06.94zm-11 1L8.5 8.5l.94-2.06 2.06-.94-2.06-.94L8.5 2.5l-.94 2.06-2.06.94zm10 10l.94 2.06.94-2.06 2.06-.94-2.06-.94-.94-2.06-.94 2.06-2.06.94z\"/><path d=\"M17.41 7.96l-1.37-1.37c-.4-.4-.92-.59-1.43-.59-.52 0-1.04.2-1.43.59L10.3 9.45l-7.72 7.72c-.78.78-.78 2.05 0 2.83L4 21.41c.39.39.9.59 1.41.59.51 0 1.02-.2 1.41-.59l7.78-7.78 2.81-2.81c.8-.78.8-2.07 0-2.86zM5.41 20L4 18.59l7.72-7.72 1.47 1.35L5.41 20z\"/>\n",
              "  </svg>\n",
              "      </button>\n",
              "      \n",
              "  <style>\n",
              "    .colab-df-container {\n",
              "      display:flex;\n",
              "      flex-wrap:wrap;\n",
              "      gap: 12px;\n",
              "    }\n",
              "\n",
              "    .colab-df-convert {\n",
              "      background-color: #E8F0FE;\n",
              "      border: none;\n",
              "      border-radius: 50%;\n",
              "      cursor: pointer;\n",
              "      display: none;\n",
              "      fill: #1967D2;\n",
              "      height: 32px;\n",
              "      padding: 0 0 0 0;\n",
              "      width: 32px;\n",
              "    }\n",
              "\n",
              "    .colab-df-convert:hover {\n",
              "      background-color: #E2EBFA;\n",
              "      box-shadow: 0px 1px 2px rgba(60, 64, 67, 0.3), 0px 1px 3px 1px rgba(60, 64, 67, 0.15);\n",
              "      fill: #174EA6;\n",
              "    }\n",
              "\n",
              "    [theme=dark] .colab-df-convert {\n",
              "      background-color: #3B4455;\n",
              "      fill: #D2E3FC;\n",
              "    }\n",
              "\n",
              "    [theme=dark] .colab-df-convert:hover {\n",
              "      background-color: #434B5C;\n",
              "      box-shadow: 0px 1px 3px 1px rgba(0, 0, 0, 0.15);\n",
              "      filter: drop-shadow(0px 1px 2px rgba(0, 0, 0, 0.3));\n",
              "      fill: #FFFFFF;\n",
              "    }\n",
              "  </style>\n",
              "\n",
              "      <script>\n",
              "        const buttonEl =\n",
              "          document.querySelector('#df-dc1d2d00-5744-4c53-8589-167210f5a989 button.colab-df-convert');\n",
              "        buttonEl.style.display =\n",
              "          google.colab.kernel.accessAllowed ? 'block' : 'none';\n",
              "\n",
              "        async function convertToInteractive(key) {\n",
              "          const element = document.querySelector('#df-dc1d2d00-5744-4c53-8589-167210f5a989');\n",
              "          const dataTable =\n",
              "            await google.colab.kernel.invokeFunction('convertToInteractive',\n",
              "                                                     [key], {});\n",
              "          if (!dataTable) return;\n",
              "\n",
              "          const docLinkHtml = 'Like what you see? Visit the ' +\n",
              "            '<a target=\"_blank\" href=https://colab.research.google.com/notebooks/data_table.ipynb>data table notebook</a>'\n",
              "            + ' to learn more about interactive tables.';\n",
              "          element.innerHTML = '';\n",
              "          dataTable['output_type'] = 'display_data';\n",
              "          await google.colab.output.renderOutput(dataTable, element);\n",
              "          const docLink = document.createElement('div');\n",
              "          docLink.innerHTML = docLinkHtml;\n",
              "          element.appendChild(docLink);\n",
              "        }\n",
              "      </script>\n",
              "    </div>\n",
              "  </div>\n",
              "  "
            ]
          },
          "metadata": {},
          "execution_count": 48
        }
      ]
    },
    {
      "cell_type": "markdown",
      "source": [
        "Out of all the podcasts that have either *technology* or *education* as their assigned category:\n",
        "\n",
        "* 5 110 podcasts are only in __*education*__ collecting a mean of 22.91 reviews per podcast. The IQR for reviews per podcast is 1-13 with a mode of 4 reviews per poodcast. All of these parameters are highest in this category compared to other options.\n",
        "* 224 podcasts are in __*both categories*__ and collect 12.25 reviews per podcast on average. The IQR for reviews per podcast is 1-10 with a mode of 3 reviews per poodcast.\n",
        "* 2 104 podcasts are only in __*technology*__ category collecting 15.6 reviews per podcast on average. The IQR for reviews per podcast is 1-8 (slightly lower than for both categories) with a mode of 3 reviews per podcast (same as for both categories)."
      ],
      "metadata": {
        "id": "JsVxUOiRTeX7"
      }
    },
    {
      "cell_type": "markdown",
      "source": [
        "### Treating outliers"
      ],
      "metadata": {
        "id": "sCHmJIuBFL0_"
      }
    },
    {
      "cell_type": "markdown",
      "source": [
        "The average reviews per podcast rate is highest in the _education_ category, however, mean is the central tendency measure most sensitive to outliers. To get a better understanding of the differences in means across the categories, a better look at the outliers may be needed."
      ],
      "metadata": {
        "id": "wewOJnNFBt19"
      }
    },
    {
      "cell_type": "code",
      "source": [
        "outliers_summary = pd.DataFrame()\n",
        "tech_ed_rev_count = pd.DataFrame()\n",
        "\n",
        "for cat in review_count_per_cat.category.unique():\n",
        "    temp_review_count = review_count_per_cat[review_count_per_cat.category == cat]\n",
        "    total_podcasts = len(temp_review_count)\n",
        "    temp_review_count = drop_outliers(temp_review_count)\n",
        "    outlier_count = temp_review_count.isna().sum().review_count\n",
        "    outlier_percentage = outlier_count / total_podcasts\n",
        "    temp_summary = {\n",
        "        'Category' : cat, \n",
        "        'Total count': '{:.0f}'.format(total_podcasts), \n",
        "        'Outlier count' : '{:.0f}'.format(outlier_count), \n",
        "        'Percentage of total' : '{:.2%}'.format(outlier_percentage)\n",
        "        }\n",
        "\n",
        "    outliers_summary = outliers_summary.append(temp_summary, ignore_index=True)\n",
        "    tech_ed_rev_count = pd.concat([tech_ed_rev_count, temp_review_count.dropna()])"
      ],
      "metadata": {
        "id": "cBwOtxV3CAJA"
      },
      "execution_count": 49,
      "outputs": []
    },
    {
      "cell_type": "code",
      "source": [
        "outliers_summary"
      ],
      "metadata": {
        "id": "WVOJVr02RhvU",
        "outputId": "2ba64d3f-cb7a-4841-f6dd-3498274b5db0",
        "colab": {
          "base_uri": "https://localhost:8080/",
          "height": 143
        }
      },
      "execution_count": 50,
      "outputs": [
        {
          "output_type": "execute_result",
          "data": {
            "text/plain": [
              "     Category Total count Outlier count Percentage of total\n",
              "0   education        5110           661              12.94%\n",
              "1  technology        2104           288              13.69%\n",
              "2     tech-ed         224            31              13.84%"
            ],
            "text/html": [
              "\n",
              "  <div id=\"df-520a8302-396d-425a-8c4a-771b79c73be2\">\n",
              "    <div class=\"colab-df-container\">\n",
              "      <div>\n",
              "<style scoped>\n",
              "    .dataframe tbody tr th:only-of-type {\n",
              "        vertical-align: middle;\n",
              "    }\n",
              "\n",
              "    .dataframe tbody tr th {\n",
              "        vertical-align: top;\n",
              "    }\n",
              "\n",
              "    .dataframe thead th {\n",
              "        text-align: right;\n",
              "    }\n",
              "</style>\n",
              "<table border=\"1\" class=\"dataframe\">\n",
              "  <thead>\n",
              "    <tr style=\"text-align: right;\">\n",
              "      <th></th>\n",
              "      <th>Category</th>\n",
              "      <th>Total count</th>\n",
              "      <th>Outlier count</th>\n",
              "      <th>Percentage of total</th>\n",
              "    </tr>\n",
              "  </thead>\n",
              "  <tbody>\n",
              "    <tr>\n",
              "      <th>0</th>\n",
              "      <td>education</td>\n",
              "      <td>5110</td>\n",
              "      <td>661</td>\n",
              "      <td>12.94%</td>\n",
              "    </tr>\n",
              "    <tr>\n",
              "      <th>1</th>\n",
              "      <td>technology</td>\n",
              "      <td>2104</td>\n",
              "      <td>288</td>\n",
              "      <td>13.69%</td>\n",
              "    </tr>\n",
              "    <tr>\n",
              "      <th>2</th>\n",
              "      <td>tech-ed</td>\n",
              "      <td>224</td>\n",
              "      <td>31</td>\n",
              "      <td>13.84%</td>\n",
              "    </tr>\n",
              "  </tbody>\n",
              "</table>\n",
              "</div>\n",
              "      <button class=\"colab-df-convert\" onclick=\"convertToInteractive('df-520a8302-396d-425a-8c4a-771b79c73be2')\"\n",
              "              title=\"Convert this dataframe to an interactive table.\"\n",
              "              style=\"display:none;\">\n",
              "        \n",
              "  <svg xmlns=\"http://www.w3.org/2000/svg\" height=\"24px\"viewBox=\"0 0 24 24\"\n",
              "       width=\"24px\">\n",
              "    <path d=\"M0 0h24v24H0V0z\" fill=\"none\"/>\n",
              "    <path d=\"M18.56 5.44l.94 2.06.94-2.06 2.06-.94-2.06-.94-.94-2.06-.94 2.06-2.06.94zm-11 1L8.5 8.5l.94-2.06 2.06-.94-2.06-.94L8.5 2.5l-.94 2.06-2.06.94zm10 10l.94 2.06.94-2.06 2.06-.94-2.06-.94-.94-2.06-.94 2.06-2.06.94z\"/><path d=\"M17.41 7.96l-1.37-1.37c-.4-.4-.92-.59-1.43-.59-.52 0-1.04.2-1.43.59L10.3 9.45l-7.72 7.72c-.78.78-.78 2.05 0 2.83L4 21.41c.39.39.9.59 1.41.59.51 0 1.02-.2 1.41-.59l7.78-7.78 2.81-2.81c.8-.78.8-2.07 0-2.86zM5.41 20L4 18.59l7.72-7.72 1.47 1.35L5.41 20z\"/>\n",
              "  </svg>\n",
              "      </button>\n",
              "      \n",
              "  <style>\n",
              "    .colab-df-container {\n",
              "      display:flex;\n",
              "      flex-wrap:wrap;\n",
              "      gap: 12px;\n",
              "    }\n",
              "\n",
              "    .colab-df-convert {\n",
              "      background-color: #E8F0FE;\n",
              "      border: none;\n",
              "      border-radius: 50%;\n",
              "      cursor: pointer;\n",
              "      display: none;\n",
              "      fill: #1967D2;\n",
              "      height: 32px;\n",
              "      padding: 0 0 0 0;\n",
              "      width: 32px;\n",
              "    }\n",
              "\n",
              "    .colab-df-convert:hover {\n",
              "      background-color: #E2EBFA;\n",
              "      box-shadow: 0px 1px 2px rgba(60, 64, 67, 0.3), 0px 1px 3px 1px rgba(60, 64, 67, 0.15);\n",
              "      fill: #174EA6;\n",
              "    }\n",
              "\n",
              "    [theme=dark] .colab-df-convert {\n",
              "      background-color: #3B4455;\n",
              "      fill: #D2E3FC;\n",
              "    }\n",
              "\n",
              "    [theme=dark] .colab-df-convert:hover {\n",
              "      background-color: #434B5C;\n",
              "      box-shadow: 0px 1px 3px 1px rgba(0, 0, 0, 0.15);\n",
              "      filter: drop-shadow(0px 1px 2px rgba(0, 0, 0, 0.3));\n",
              "      fill: #FFFFFF;\n",
              "    }\n",
              "  </style>\n",
              "\n",
              "      <script>\n",
              "        const buttonEl =\n",
              "          document.querySelector('#df-520a8302-396d-425a-8c4a-771b79c73be2 button.colab-df-convert');\n",
              "        buttonEl.style.display =\n",
              "          google.colab.kernel.accessAllowed ? 'block' : 'none';\n",
              "\n",
              "        async function convertToInteractive(key) {\n",
              "          const element = document.querySelector('#df-520a8302-396d-425a-8c4a-771b79c73be2');\n",
              "          const dataTable =\n",
              "            await google.colab.kernel.invokeFunction('convertToInteractive',\n",
              "                                                     [key], {});\n",
              "          if (!dataTable) return;\n",
              "\n",
              "          const docLinkHtml = 'Like what you see? Visit the ' +\n",
              "            '<a target=\"_blank\" href=https://colab.research.google.com/notebooks/data_table.ipynb>data table notebook</a>'\n",
              "            + ' to learn more about interactive tables.';\n",
              "          element.innerHTML = '';\n",
              "          dataTable['output_type'] = 'display_data';\n",
              "          await google.colab.output.renderOutput(dataTable, element);\n",
              "          const docLink = document.createElement('div');\n",
              "          docLink.innerHTML = docLinkHtml;\n",
              "          element.appendChild(docLink);\n",
              "        }\n",
              "      </script>\n",
              "    </div>\n",
              "  </div>\n",
              "  "
            ]
          },
          "metadata": {},
          "execution_count": 50
        }
      ]
    },
    {
      "cell_type": "markdown",
      "source": [
        "All three categories have about 13% of their data fall out of the norm. _Education_ category is the most populat yet also has the highest outlier count (661 outliers vs. 288 and 31 in _technology_ and _tech-ed_ respectively). \n",
        "\n",
        "Since the case of our investigation is a launch of a new podcast, it is safe to assume that just yet it may not have the recognition to receive abnormally high review counts. Thus, the outliers will be dropped.\n"
      ],
      "metadata": {
        "id": "feeM6Ij4JQhN"
      }
    },
    {
      "cell_type": "code",
      "source": [
        "# drop outliers entirely\n",
        "tech_ed_rev_count = tech_ed_rev_count[tech_ed_rev_count.review_count.notna()]"
      ],
      "metadata": {
        "id": "bb67DUcoP3Y4"
      },
      "execution_count": 51,
      "outputs": []
    },
    {
      "cell_type": "code",
      "source": [
        "fig, ax= plt.subplots(figsize=(10, 5))\n",
        "rev_per_cat_plot = sns.countplot(x='category', data=tech_ed_rev_count)\n",
        "show_values(rev_per_cat_plot, orient='v', space=1, decimals=0)\n",
        "plot_labels('Review count across categories after dropping outliers', 'Category', 'Review count');"
      ],
      "metadata": {
        "colab": {
          "base_uri": "https://localhost:8080/",
          "height": 350
        },
        "id": "6Q6ymrKO5K8T",
        "outputId": "fe51d071-3338-4852-84c5-40c6de74038a"
      },
      "execution_count": 52,
      "outputs": [
        {
          "output_type": "display_data",
          "data": {
            "text/plain": [
              "<Figure size 720x360 with 1 Axes>"
            ],
            "image/png": "[encoded data removed]"
          },
          "metadata": {}
        }
      ]
    },
    {
      "cell_type": "code",
      "source": [
        "fig, ax = plt.subplots(figsize=(15, 3))\n",
        "sns.boxplot(data=tech_ed_rev_count, x='review_count', y='category', showfliers = True)\n",
        "plt.xlim(0)\n",
        "\n",
        "plot_labels('Review distribution across categories after dropping outliers', 'Reviews per podcast count', 'Category');"
      ],
      "metadata": {
        "colab": {
          "base_uri": "https://localhost:8080/",
          "height": 241
        },
        "id": "zGtLrwbV4OOn",
        "outputId": "78c7ca98-dc06-47ad-cd62-bf9e67aee1dd"
      },
      "execution_count": 53,
      "outputs": [
        {
          "output_type": "display_data",
          "data": {
            "text/plain": [
              "<Figure size 1080x216 with 1 Axes>"
            ],
            "image/png": "[encoded data removed]"
          },
          "metadata": {}
        }
      ]
    },
    {
      "cell_type": "code",
      "source": [
        "rev_count_stats = tech_ed_rev_count.groupby('category').describe().reindex(['education', 'technology', 'tech-ed'])\n",
        "rev_count_stats"
      ],
      "metadata": {
        "id": "WxXdKLwSS2kf",
        "outputId": "c1d4dbfa-81c1-4920-d214-9dc019c4f092",
        "colab": {
          "base_uri": "https://localhost:8080/",
          "height": 206
        }
      },
      "execution_count": 54,
      "outputs": [
        {
          "output_type": "execute_result",
          "data": {
            "text/plain": [
              "           review_count                                              \n",
              "                  count      mean       std  min  25%  50%  75%   max\n",
              "category                                                             \n",
              "education        4449.0  5.772533  6.602945  1.0  1.0  3.0  7.0  31.0\n",
              "technology       1816.0  3.675661  3.703915  1.0  1.0  2.0  5.0  18.0\n",
              "tech-ed           193.0  4.279793  4.451645  1.0  1.0  3.0  6.0  22.0"
            ],
            "text/html": [
              "\n",
              "  <div id=\"df-f768fc20-42a6-4bc8-83b4-b8982554b188\">\n",
              "    <div class=\"colab-df-container\">\n",
              "      <div>\n",
              "<style scoped>\n",
              "    .dataframe tbody tr th:only-of-type {\n",
              "        vertical-align: middle;\n",
              "    }\n",
              "\n",
              "    .dataframe tbody tr th {\n",
              "        vertical-align: top;\n",
              "    }\n",
              "\n",
              "    .dataframe thead tr th {\n",
              "        text-align: left;\n",
              "    }\n",
              "\n",
              "    .dataframe thead tr:last-of-type th {\n",
              "        text-align: right;\n",
              "    }\n",
              "</style>\n",
              "<table border=\"1\" class=\"dataframe\">\n",
              "  <thead>\n",
              "    <tr>\n",
              "      <th></th>\n",
              "      <th colspan=\"8\" halign=\"left\">review_count</th>\n",
              "    </tr>\n",
              "    <tr>\n",
              "      <th></th>\n",
              "      <th>count</th>\n",
              "      <th>mean</th>\n",
              "      <th>std</th>\n",
              "      <th>min</th>\n",
              "      <th>25%</th>\n",
              "      <th>50%</th>\n",
              "      <th>75%</th>\n",
              "      <th>max</th>\n",
              "    </tr>\n",
              "    <tr>\n",
              "      <th>category</th>\n",
              "      <th></th>\n",
              "      <th></th>\n",
              "      <th></th>\n",
              "      <th></th>\n",
              "      <th></th>\n",
              "      <th></th>\n",
              "      <th></th>\n",
              "      <th></th>\n",
              "    </tr>\n",
              "  </thead>\n",
              "  <tbody>\n",
              "    <tr>\n",
              "      <th>education</th>\n",
              "      <td>4449.0</td>\n",
              "      <td>5.772533</td>\n",
              "      <td>6.602945</td>\n",
              "      <td>1.0</td>\n",
              "      <td>1.0</td>\n",
              "      <td>3.0</td>\n",
              "      <td>7.0</td>\n",
              "      <td>31.0</td>\n",
              "    </tr>\n",
              "    <tr>\n",
              "      <th>technology</th>\n",
              "      <td>1816.0</td>\n",
              "      <td>3.675661</td>\n",
              "      <td>3.703915</td>\n",
              "      <td>1.0</td>\n",
              "      <td>1.0</td>\n",
              "      <td>2.0</td>\n",
              "      <td>5.0</td>\n",
              "      <td>18.0</td>\n",
              "    </tr>\n",
              "    <tr>\n",
              "      <th>tech-ed</th>\n",
              "      <td>193.0</td>\n",
              "      <td>4.279793</td>\n",
              "      <td>4.451645</td>\n",
              "      <td>1.0</td>\n",
              "      <td>1.0</td>\n",
              "      <td>3.0</td>\n",
              "      <td>6.0</td>\n",
              "      <td>22.0</td>\n",
              "    </tr>\n",
              "  </tbody>\n",
              "</table>\n",
              "</div>\n",
              "      <button class=\"colab-df-convert\" onclick=\"convertToInteractive('df-f768fc20-42a6-4bc8-83b4-b8982554b188')\"\n",
              "              title=\"Convert this dataframe to an interactive table.\"\n",
              "              style=\"display:none;\">\n",
              "        \n",
              "  <svg xmlns=\"http://www.w3.org/2000/svg\" height=\"24px\"viewBox=\"0 0 24 24\"\n",
              "       width=\"24px\">\n",
              "    <path d=\"M0 0h24v24H0V0z\" fill=\"none\"/>\n",
              "    <path d=\"M18.56 5.44l.94 2.06.94-2.06 2.06-.94-2.06-.94-.94-2.06-.94 2.06-2.06.94zm-11 1L8.5 8.5l.94-2.06 2.06-.94-2.06-.94L8.5 2.5l-.94 2.06-2.06.94zm10 10l.94 2.06.94-2.06 2.06-.94-2.06-.94-.94-2.06-.94 2.06-2.06.94z\"/><path d=\"M17.41 7.96l-1.37-1.37c-.4-.4-.92-.59-1.43-.59-.52 0-1.04.2-1.43.59L10.3 9.45l-7.72 7.72c-.78.78-.78 2.05 0 2.83L4 21.41c.39.39.9.59 1.41.59.51 0 1.02-.2 1.41-.59l7.78-7.78 2.81-2.81c.8-.78.8-2.07 0-2.86zM5.41 20L4 18.59l7.72-7.72 1.47 1.35L5.41 20z\"/>\n",
              "  </svg>\n",
              "      </button>\n",
              "      \n",
              "  <style>\n",
              "    .colab-df-container {\n",
              "      display:flex;\n",
              "      flex-wrap:wrap;\n",
              "      gap: 12px;\n",
              "    }\n",
              "\n",
              "    .colab-df-convert {\n",
              "      background-color: #E8F0FE;\n",
              "      border: none;\n",
              "      border-radius: 50%;\n",
              "      cursor: pointer;\n",
              "      display: none;\n",
              "      fill: #1967D2;\n",
              "      height: 32px;\n",
              "      padding: 0 0 0 0;\n",
              "      width: 32px;\n",
              "    }\n",
              "\n",
              "    .colab-df-convert:hover {\n",
              "      background-color: #E2EBFA;\n",
              "      box-shadow: 0px 1px 2px rgba(60, 64, 67, 0.3), 0px 1px 3px 1px rgba(60, 64, 67, 0.15);\n",
              "      fill: #174EA6;\n",
              "    }\n",
              "\n",
              "    [theme=dark] .colab-df-convert {\n",
              "      background-color: #3B4455;\n",
              "      fill: #D2E3FC;\n",
              "    }\n",
              "\n",
              "    [theme=dark] .colab-df-convert:hover {\n",
              "      background-color: #434B5C;\n",
              "      box-shadow: 0px 1px 3px 1px rgba(0, 0, 0, 0.15);\n",
              "      filter: drop-shadow(0px 1px 2px rgba(0, 0, 0, 0.3));\n",
              "      fill: #FFFFFF;\n",
              "    }\n",
              "  </style>\n",
              "\n",
              "      <script>\n",
              "        const buttonEl =\n",
              "          document.querySelector('#df-f768fc20-42a6-4bc8-83b4-b8982554b188 button.colab-df-convert');\n",
              "        buttonEl.style.display =\n",
              "          google.colab.kernel.accessAllowed ? 'block' : 'none';\n",
              "\n",
              "        async function convertToInteractive(key) {\n",
              "          const element = document.querySelector('#df-f768fc20-42a6-4bc8-83b4-b8982554b188');\n",
              "          const dataTable =\n",
              "            await google.colab.kernel.invokeFunction('convertToInteractive',\n",
              "                                                     [key], {});\n",
              "          if (!dataTable) return;\n",
              "\n",
              "          const docLinkHtml = 'Like what you see? Visit the ' +\n",
              "            '<a target=\"_blank\" href=https://colab.research.google.com/notebooks/data_table.ipynb>data table notebook</a>'\n",
              "            + ' to learn more about interactive tables.';\n",
              "          element.innerHTML = '';\n",
              "          dataTable['output_type'] = 'display_data';\n",
              "          await google.colab.output.renderOutput(dataTable, element);\n",
              "          const docLink = document.createElement('div');\n",
              "          docLink.innerHTML = docLinkHtml;\n",
              "          element.appendChild(docLink);\n",
              "        }\n",
              "      </script>\n",
              "    </div>\n",
              "  </div>\n",
              "  "
            ]
          },
          "metadata": {},
          "execution_count": 54
        }
      ]
    },
    {
      "cell_type": "markdown",
      "source": [
        "Once the outliers were dropped, the means were reduced and so were all the other parameters. \n",
        "\n",
        "_Technology_ category while has more podcasts assigned than _technology_+_education_, on average received less reviews per podcasts and lowest maximum review count."
      ],
      "metadata": {
        "id": "TJo5LSY8VQvK"
      }
    },
    {
      "cell_type": "markdown",
      "source": [
        "## Difference in mean review count\n",
        "*Is the difference in mean review per podcast count significant between podcasts assigned to only technology, only education and both categories?*"
      ],
      "metadata": {
        "id": "c4sgeGxSe6zb"
      }
    },
    {
      "cell_type": "markdown",
      "source": [
        "**Population**: Podcasts, assigned to either _technology_ or _education_ categories.\n",
        "\n",
        "**Parameter of Interest (μ<sub>1</sub> - μ<sub>2</sub>)**: mean review per podcast count\n",
        "\n",
        "**Null Hypothesis**: μ<sub>1</sub> - μ<sub>2</sub> = 0; there is no difference in mean review per podcast count\n",
        "\n",
        "**Alternative Hypothesis**: μ<sub>1</sub> - μ<sub>2</sub> ≠ 0; there is a significant difference in mean review per podcast count\n",
        "\n",
        "**Significance level**: 5%; if the p-value calculated is smaller than 0.05, we reject the null hypothesis."
      ],
      "metadata": {
        "id": "wHPM5pVwgqX0"
      }
    },
    {
      "cell_type": "markdown",
      "source": [
        "### Check Assumptions\n"
      ],
      "metadata": {
        "id": "euGGu4eHkOmF"
      }
    },
    {
      "cell_type": "markdown",
      "source": [
        "* Samples are considered simple random samples (assuming that yes)\n",
        "* Samples are independent from one another (yes, podcasts are filtered based on their assignment to only one or both categories)\n",
        "* Samples are normally distributed\n",
        "* Sample size is large enough\n",
        "\n",
        "If the distributions of our samples are approximately normal or the sample size is large enough, the test statistic will be approximately normal too."
      ],
      "metadata": {
        "id": "xtM2F2-N-Y7Y"
      }
    },
    {
      "cell_type": "markdown",
      "source": [
        "### Calculate test statistic"
      ],
      "metadata": {
        "id": "00xySae-lQ-m"
      }
    },
    {
      "cell_type": "markdown",
      "source": [
        "#### Confidence intervals"
      ],
      "metadata": {
        "id": "2dGDyxS7-e6X"
      }
    },
    {
      "cell_type": "markdown",
      "source": [
        "To determine which CI approach to use, we first have to comparre variances:"
      ],
      "metadata": {
        "id": "8uYUtp9hAQOV"
      }
    },
    {
      "cell_type": "code",
      "source": [
        "rev_count_stats['review_count']['std'].apply(lambda x: x*x)"
      ],
      "metadata": {
        "colab": {
          "base_uri": "https://localhost:8080/"
        },
        "id": "jd6hqDOQ_wTI",
        "outputId": "bd8fc034-38fe-4aaf-8817-fbecb88512b9"
      },
      "execution_count": 55,
      "outputs": [
        {
          "output_type": "execute_result",
          "data": {
            "text/plain": [
              "category\n",
              "education     43.598877\n",
              "technology    13.718989\n",
              "tech-ed       19.817142\n",
              "Name: std, dtype: float64"
            ]
          },
          "metadata": {},
          "execution_count": 55
        }
      ]
    },
    {
      "cell_type": "markdown",
      "source": [
        "From this data we can choose the **unpooled approach** - the assumption is that variances are not simmilar."
      ],
      "metadata": {
        "id": "O9NhAsz7-_7q"
      }
    },
    {
      "cell_type": "markdown",
      "source": [
        "To construct the CI, we take _the difference in sample means ± estimated standard error · t* multiplier_\n",
        "\n",
        "The _t*_ at 95% confidence level is 1.96."
      ],
      "metadata": {
        "id": "feYXHS4rAv0o"
      }
    },
    {
      "cell_type": "code",
      "source": [
        "mean_count_ci = pd.DataFrame()\n",
        "categ = ['education', 'tech-ed', 'technology']\n",
        "for ind in range(2):\n",
        "    x1 = tech_ed_rev_count[tech_ed_rev_count.category == categ[ind]].review_count\n",
        "    x2 = tech_ed_rev_count[tech_ed_rev_count.category == categ[ind+1]].review_count\n",
        "    avg_difference = x1.mean() - x2.mean()\n",
        "    best_estimate, margin, lower_bound, upper_bound = unpooled_ci(x1, x2, avg_difference)\n",
        "        \n",
        "    temp_mean_ci = pd.DataFrame({'difference in means': best_estimate, 'margin': margin, 'lower bound':lower_bound, 'upper bound':upper_bound}, index=[f'{categ[ind]} vs {categ[ind+1]}'])\n",
        "    mean_count_ci = pd.concat([mean_count_ci, temp_mean_ci])\n",
        "\n",
        "mean_count_ci"
      ],
      "metadata": {
        "colab": {
          "base_uri": "https://localhost:8080/",
          "height": 112
        },
        "id": "OD-mRcF5CVmm",
        "outputId": "702f866d-a431-4fab-f104-411a58ff375c"
      },
      "execution_count": 56,
      "outputs": [
        {
          "output_type": "execute_result",
          "data": {
            "text/plain": [
              "                       difference in means    margin  lower bound  upper bound\n",
              "education vs tech-ed              1.492740  0.657343     0.835397     2.150084\n",
              "tech-ed vs technology             0.604132  0.650750    -0.046618     1.254881"
            ],
            "text/html": [
              "\n",
              "  <div id=\"df-6ecc1c23-a13a-484b-8d07-8a54ce670cbd\">\n",
              "    <div class=\"colab-df-container\">\n",
              "      <div>\n",
              "<style scoped>\n",
              "    .dataframe tbody tr th:only-of-type {\n",
              "        vertical-align: middle;\n",
              "    }\n",
              "\n",
              "    .dataframe tbody tr th {\n",
              "        vertical-align: top;\n",
              "    }\n",
              "\n",
              "    .dataframe thead th {\n",
              "        text-align: right;\n",
              "    }\n",
              "</style>\n",
              "<table border=\"1\" class=\"dataframe\">\n",
              "  <thead>\n",
              "    <tr style=\"text-align: right;\">\n",
              "      <th></th>\n",
              "      <th>difference in means</th>\n",
              "      <th>margin</th>\n",
              "      <th>lower bound</th>\n",
              "      <th>upper bound</th>\n",
              "    </tr>\n",
              "  </thead>\n",
              "  <tbody>\n",
              "    <tr>\n",
              "      <th>education vs tech-ed</th>\n",
              "      <td>1.492740</td>\n",
              "      <td>0.657343</td>\n",
              "      <td>0.835397</td>\n",
              "      <td>2.150084</td>\n",
              "    </tr>\n",
              "    <tr>\n",
              "      <th>tech-ed vs technology</th>\n",
              "      <td>0.604132</td>\n",
              "      <td>0.650750</td>\n",
              "      <td>-0.046618</td>\n",
              "      <td>1.254881</td>\n",
              "    </tr>\n",
              "  </tbody>\n",
              "</table>\n",
              "</div>\n",
              "      <button class=\"colab-df-convert\" onclick=\"convertToInteractive('df-6ecc1c23-a13a-484b-8d07-8a54ce670cbd')\"\n",
              "              title=\"Convert this dataframe to an interactive table.\"\n",
              "              style=\"display:none;\">\n",
              "        \n",
              "  <svg xmlns=\"http://www.w3.org/2000/svg\" height=\"24px\"viewBox=\"0 0 24 24\"\n",
              "       width=\"24px\">\n",
              "    <path d=\"M0 0h24v24H0V0z\" fill=\"none\"/>\n",
              "    <path d=\"M18.56 5.44l.94 2.06.94-2.06 2.06-.94-2.06-.94-.94-2.06-.94 2.06-2.06.94zm-11 1L8.5 8.5l.94-2.06 2.06-.94-2.06-.94L8.5 2.5l-.94 2.06-2.06.94zm10 10l.94 2.06.94-2.06 2.06-.94-2.06-.94-.94-2.06-.94 2.06-2.06.94z\"/><path d=\"M17.41 7.96l-1.37-1.37c-.4-.4-.92-.59-1.43-.59-.52 0-1.04.2-1.43.59L10.3 9.45l-7.72 7.72c-.78.78-.78 2.05 0 2.83L4 21.41c.39.39.9.59 1.41.59.51 0 1.02-.2 1.41-.59l7.78-7.78 2.81-2.81c.8-.78.8-2.07 0-2.86zM5.41 20L4 18.59l7.72-7.72 1.47 1.35L5.41 20z\"/>\n",
              "  </svg>\n",
              "      </button>\n",
              "      \n",
              "  <style>\n",
              "    .colab-df-container {\n",
              "      display:flex;\n",
              "      flex-wrap:wrap;\n",
              "      gap: 12px;\n",
              "    }\n",
              "\n",
              "    .colab-df-convert {\n",
              "      background-color: #E8F0FE;\n",
              "      border: none;\n",
              "      border-radius: 50%;\n",
              "      cursor: pointer;\n",
              "      display: none;\n",
              "      fill: #1967D2;\n",
              "      height: 32px;\n",
              "      padding: 0 0 0 0;\n",
              "      width: 32px;\n",
              "    }\n",
              "\n",
              "    .colab-df-convert:hover {\n",
              "      background-color: #E2EBFA;\n",
              "      box-shadow: 0px 1px 2px rgba(60, 64, 67, 0.3), 0px 1px 3px 1px rgba(60, 64, 67, 0.15);\n",
              "      fill: #174EA6;\n",
              "    }\n",
              "\n",
              "    [theme=dark] .colab-df-convert {\n",
              "      background-color: #3B4455;\n",
              "      fill: #D2E3FC;\n",
              "    }\n",
              "\n",
              "    [theme=dark] .colab-df-convert:hover {\n",
              "      background-color: #434B5C;\n",
              "      box-shadow: 0px 1px 3px 1px rgba(0, 0, 0, 0.15);\n",
              "      filter: drop-shadow(0px 1px 2px rgba(0, 0, 0, 0.3));\n",
              "      fill: #FFFFFF;\n",
              "    }\n",
              "  </style>\n",
              "\n",
              "      <script>\n",
              "        const buttonEl =\n",
              "          document.querySelector('#df-6ecc1c23-a13a-484b-8d07-8a54ce670cbd button.colab-df-convert');\n",
              "        buttonEl.style.display =\n",
              "          google.colab.kernel.accessAllowed ? 'block' : 'none';\n",
              "\n",
              "        async function convertToInteractive(key) {\n",
              "          const element = document.querySelector('#df-6ecc1c23-a13a-484b-8d07-8a54ce670cbd');\n",
              "          const dataTable =\n",
              "            await google.colab.kernel.invokeFunction('convertToInteractive',\n",
              "                                                     [key], {});\n",
              "          if (!dataTable) return;\n",
              "\n",
              "          const docLinkHtml = 'Like what you see? Visit the ' +\n",
              "            '<a target=\"_blank\" href=https://colab.research.google.com/notebooks/data_table.ipynb>data table notebook</a>'\n",
              "            + ' to learn more about interactive tables.';\n",
              "          element.innerHTML = '';\n",
              "          dataTable['output_type'] = 'display_data';\n",
              "          await google.colab.output.renderOutput(dataTable, element);\n",
              "          const docLink = document.createElement('div');\n",
              "          docLink.innerHTML = docLinkHtml;\n",
              "          element.appendChild(docLink);\n",
              "        }\n",
              "      </script>\n",
              "    </div>\n",
              "  </div>\n",
              "  "
            ]
          },
          "metadata": {},
          "execution_count": 56
        }
      ]
    },
    {
      "cell_type": "markdown",
      "source": [
        "With 95% cnfidence, the difference in mean review per podcast count between _education_ and _technology_+_education_ podcasts is estimated to be between __0.84 and 2.15__.\n",
        "\n",
        "__95% confidence__: if this procedure were repeated multiple times, we would expect 95% of those resulting intervals to contain the difference in mean review count.\n"
      ],
      "metadata": {
        "id": "io32nm5QNSuS"
      }
    },
    {
      "cell_type": "markdown",
      "source": [
        "With 95% cnfidence, the difference in mean review per podcast count between _technology_+_education_ and _technology_ podcasts is estimated to be between __-0.5 and 1.25__. In this case, the interval includes zero, meaning there is a good chance that if the experiment is run again, there is a good chance of finding no difference between these groups."
      ],
      "metadata": {
        "id": "v_4JkEcmNqfB"
      }
    },
    {
      "cell_type": "markdown",
      "source": [
        "#### T-test"
      ],
      "metadata": {
        "id": "mqO_edL6-jGR"
      }
    },
    {
      "cell_type": "markdown",
      "source": [
        "Because the variance and sample sizes are different for each category, we will use a Welch's t-test instead of a Student t-test to account for this fact."
      ],
      "metadata": {
        "id": "GI5Uy7gx-rpY"
      }
    },
    {
      "cell_type": "code",
      "source": [
        "mean_count_ztest = pd.DataFrame()\n",
        "categ = ['education', 'tech-ed', 'technology']\n",
        "for ind in range(2):\n",
        "    x1 = tech_ed_rev_count[tech_ed_rev_count.category == categ[ind]].review_count\n",
        "    x2 = tech_ed_rev_count[tech_ed_rev_count.category == categ[ind+1]].review_count\n",
        "    avg_difference = x1.mean() - x2.mean()\n",
        "    tstat, pvalue, df = sm.ttest_ind(x1, x2, usevar='unequal')\n",
        "        \n",
        "    temp_ztest = pd.DataFrame({'difference in means': avg_difference, 'z-score':tstat, 'p-value':pvalue}, index=[f'{categ[ind]} vs {categ[ind+1]}'])\n",
        "    mean_count_ztest = pd.concat([mean_count_ztest, temp_ztest])\n",
        "\n",
        "mean_count_ztest"
      ],
      "metadata": {
        "id": "P6L1oF5OEEet",
        "outputId": "09d7f1a2-58d4-4bbe-84e7-600035aa675f",
        "colab": {
          "base_uri": "https://localhost:8080/",
          "height": 112
        }
      },
      "execution_count": 57,
      "outputs": [
        {
          "output_type": "execute_result",
          "data": {
            "text/plain": [
              "                       difference in means   z-score   p-value\n",
              "education vs tech-ed              1.492740  4.450904  0.000013\n",
              "tech-ed vs technology             0.604132  1.819592  0.070173"
            ],
            "text/html": [
              "\n",
              "  <div id=\"df-ed529ffa-d287-45c7-b80c-ccb3071e3f66\">\n",
              "    <div class=\"colab-df-container\">\n",
              "      <div>\n",
              "<style scoped>\n",
              "    .dataframe tbody tr th:only-of-type {\n",
              "        vertical-align: middle;\n",
              "    }\n",
              "\n",
              "    .dataframe tbody tr th {\n",
              "        vertical-align: top;\n",
              "    }\n",
              "\n",
              "    .dataframe thead th {\n",
              "        text-align: right;\n",
              "    }\n",
              "</style>\n",
              "<table border=\"1\" class=\"dataframe\">\n",
              "  <thead>\n",
              "    <tr style=\"text-align: right;\">\n",
              "      <th></th>\n",
              "      <th>difference in means</th>\n",
              "      <th>z-score</th>\n",
              "      <th>p-value</th>\n",
              "    </tr>\n",
              "  </thead>\n",
              "  <tbody>\n",
              "    <tr>\n",
              "      <th>education vs tech-ed</th>\n",
              "      <td>1.492740</td>\n",
              "      <td>4.450904</td>\n",
              "      <td>0.000013</td>\n",
              "    </tr>\n",
              "    <tr>\n",
              "      <th>tech-ed vs technology</th>\n",
              "      <td>0.604132</td>\n",
              "      <td>1.819592</td>\n",
              "      <td>0.070173</td>\n",
              "    </tr>\n",
              "  </tbody>\n",
              "</table>\n",
              "</div>\n",
              "      <button class=\"colab-df-convert\" onclick=\"convertToInteractive('df-ed529ffa-d287-45c7-b80c-ccb3071e3f66')\"\n",
              "              title=\"Convert this dataframe to an interactive table.\"\n",
              "              style=\"display:none;\">\n",
              "        \n",
              "  <svg xmlns=\"http://www.w3.org/2000/svg\" height=\"24px\"viewBox=\"0 0 24 24\"\n",
              "       width=\"24px\">\n",
              "    <path d=\"M0 0h24v24H0V0z\" fill=\"none\"/>\n",
              "    <path d=\"M18.56 5.44l.94 2.06.94-2.06 2.06-.94-2.06-.94-.94-2.06-.94 2.06-2.06.94zm-11 1L8.5 8.5l.94-2.06 2.06-.94-2.06-.94L8.5 2.5l-.94 2.06-2.06.94zm10 10l.94 2.06.94-2.06 2.06-.94-2.06-.94-.94-2.06-.94 2.06-2.06.94z\"/><path d=\"M17.41 7.96l-1.37-1.37c-.4-.4-.92-.59-1.43-.59-.52 0-1.04.2-1.43.59L10.3 9.45l-7.72 7.72c-.78.78-.78 2.05 0 2.83L4 21.41c.39.39.9.59 1.41.59.51 0 1.02-.2 1.41-.59l7.78-7.78 2.81-2.81c.8-.78.8-2.07 0-2.86zM5.41 20L4 18.59l7.72-7.72 1.47 1.35L5.41 20z\"/>\n",
              "  </svg>\n",
              "      </button>\n",
              "      \n",
              "  <style>\n",
              "    .colab-df-container {\n",
              "      display:flex;\n",
              "      flex-wrap:wrap;\n",
              "      gap: 12px;\n",
              "    }\n",
              "\n",
              "    .colab-df-convert {\n",
              "      background-color: #E8F0FE;\n",
              "      border: none;\n",
              "      border-radius: 50%;\n",
              "      cursor: pointer;\n",
              "      display: none;\n",
              "      fill: #1967D2;\n",
              "      height: 32px;\n",
              "      padding: 0 0 0 0;\n",
              "      width: 32px;\n",
              "    }\n",
              "\n",
              "    .colab-df-convert:hover {\n",
              "      background-color: #E2EBFA;\n",
              "      box-shadow: 0px 1px 2px rgba(60, 64, 67, 0.3), 0px 1px 3px 1px rgba(60, 64, 67, 0.15);\n",
              "      fill: #174EA6;\n",
              "    }\n",
              "\n",
              "    [theme=dark] .colab-df-convert {\n",
              "      background-color: #3B4455;\n",
              "      fill: #D2E3FC;\n",
              "    }\n",
              "\n",
              "    [theme=dark] .colab-df-convert:hover {\n",
              "      background-color: #434B5C;\n",
              "      box-shadow: 0px 1px 3px 1px rgba(0, 0, 0, 0.15);\n",
              "      filter: drop-shadow(0px 1px 2px rgba(0, 0, 0, 0.3));\n",
              "      fill: #FFFFFF;\n",
              "    }\n",
              "  </style>\n",
              "\n",
              "      <script>\n",
              "        const buttonEl =\n",
              "          document.querySelector('#df-ed529ffa-d287-45c7-b80c-ccb3071e3f66 button.colab-df-convert');\n",
              "        buttonEl.style.display =\n",
              "          google.colab.kernel.accessAllowed ? 'block' : 'none';\n",
              "\n",
              "        async function convertToInteractive(key) {\n",
              "          const element = document.querySelector('#df-ed529ffa-d287-45c7-b80c-ccb3071e3f66');\n",
              "          const dataTable =\n",
              "            await google.colab.kernel.invokeFunction('convertToInteractive',\n",
              "                                                     [key], {});\n",
              "          if (!dataTable) return;\n",
              "\n",
              "          const docLinkHtml = 'Like what you see? Visit the ' +\n",
              "            '<a target=\"_blank\" href=https://colab.research.google.com/notebooks/data_table.ipynb>data table notebook</a>'\n",
              "            + ' to learn more about interactive tables.';\n",
              "          element.innerHTML = '';\n",
              "          dataTable['output_type'] = 'display_data';\n",
              "          await google.colab.output.renderOutput(dataTable, element);\n",
              "          const docLink = document.createElement('div');\n",
              "          docLink.innerHTML = docLinkHtml;\n",
              "          element.appendChild(docLink);\n",
              "        }\n",
              "      </script>\n",
              "    </div>\n",
              "  </div>\n",
              "  "
            ]
          },
          "metadata": {},
          "execution_count": 57
        }
      ]
    },
    {
      "cell_type": "markdown",
      "source": [
        "The difference between mean reviews per _education_ podcasts and _tech-ed_ podcasts is 1.49 which is a statistically significant difference. P-value is less than 0.05, thus we reject the null hypothesis.\n",
        "\n",
        "On the other hand, the difference between _tech-ed_ and _technology_ podcast mean reviews is 0.6 which is not statistically significant. P-value is more than 0.05, thus we fail to reject the null hypothesis."
      ],
      "metadata": {
        "id": "rIFhQ_hKIIu6"
      }
    },
    {
      "cell_type": "markdown",
      "source": [
        "___________________________________"
      ],
      "metadata": {
        "id": "6wx_LUoBrlbN"
      }
    },
    {
      "cell_type": "markdown",
      "source": [
        "Should we based our decision about categorizing the new podcast based on the reviews per podcast, **_education_ category would be the most suitable choice** as these types of podcasts receive significantly more reviews per podcast on average than podcast categorized as _education_+_technology_ or just _technology_. Such decision may imply that our podcast would attact more listeners.\n",
        "\n"
      ],
      "metadata": {
        "id": "QFZ7CWPs-530"
      }
    },
    {
      "cell_type": "markdown",
      "source": [
        "## Review ratings"
      ],
      "metadata": {
        "id": "KHa4HfmjCFKu"
      }
    },
    {
      "cell_type": "markdown",
      "source": [
        "As mentioned before, when deciding what category to choose, we want to look not only at the mean review count per podcast, but also at the rating podcasts in each category receive."
      ],
      "metadata": {
        "id": "Ob9u33NsBM9o"
      }
    },
    {
      "cell_type": "code",
      "source": [
        "mean_id_rating = tech_ed_reviews.groupby(['podcast_id']).mean()\n",
        "mean_rating_cat = tech_ed_reviews[['podcast_id', 'category']].drop_duplicates(['podcast_id']).merge(mean_id_rating, how='inner', left_on='podcast_id', right_on='podcast_id')"
      ],
      "metadata": {
        "id": "lKN7A9CMCgNW"
      },
      "execution_count": 58,
      "outputs": []
    },
    {
      "cell_type": "code",
      "source": [
        "fig, ax = plt.subplots(figsize=(15, 3))\n",
        "sns.boxplot(data=mean_rating_cat, x='rating', y='category')\n",
        "\n",
        "plot_labels('Distribution of review ratings', 'Review rating per podcast', 'Category');"
      ],
      "metadata": {
        "colab": {
          "base_uri": "https://localhost:8080/",
          "height": 241
        },
        "id": "WJNxQzUBDdCR",
        "outputId": "3435c43f-250e-4741-ea26-f83b1b630ccf"
      },
      "execution_count": 59,
      "outputs": [
        {
          "output_type": "display_data",
          "data": {
            "text/plain": [
              "<Figure size 1080x216 with 1 Axes>"
            ],
            "image/png": "[encoded data removed]"
          },
          "metadata": {}
        }
      ]
    },
    {
      "cell_type": "code",
      "source": [
        "mean_rating_cat.groupby(['category']).describe().reindex(['education', 'technology', 'tech-ed'])"
      ],
      "metadata": {
        "colab": {
          "base_uri": "https://localhost:8080/",
          "height": 206
        },
        "id": "7r4pGTyZFdYv",
        "outputId": "5f006e4d-df6f-4473-bdbd-48fd52bfd0d0"
      },
      "execution_count": 60,
      "outputs": [
        {
          "output_type": "execute_result",
          "data": {
            "text/plain": [
              "            rating                                                  \n",
              "             count      mean       std  min       25%  50%  75%  max\n",
              "category                                                            \n",
              "education   5110.0  4.774093  0.629783  1.0  4.924801  5.0  5.0  5.0\n",
              "technology  2104.0  4.710968  0.704796  1.0  4.833333  5.0  5.0  5.0\n",
              "tech-ed      224.0  4.710420  0.679641  1.0  4.747024  5.0  5.0  5.0"
            ],
            "text/html": [
              "\n",
              "  <div id=\"df-e4ed5bf1-78c4-4aa2-b4ac-6d6c9b4b9fcc\">\n",
              "    <div class=\"colab-df-container\">\n",
              "      <div>\n",
              "<style scoped>\n",
              "    .dataframe tbody tr th:only-of-type {\n",
              "        vertical-align: middle;\n",
              "    }\n",
              "\n",
              "    .dataframe tbody tr th {\n",
              "        vertical-align: top;\n",
              "    }\n",
              "\n",
              "    .dataframe thead tr th {\n",
              "        text-align: left;\n",
              "    }\n",
              "\n",
              "    .dataframe thead tr:last-of-type th {\n",
              "        text-align: right;\n",
              "    }\n",
              "</style>\n",
              "<table border=\"1\" class=\"dataframe\">\n",
              "  <thead>\n",
              "    <tr>\n",
              "      <th></th>\n",
              "      <th colspan=\"8\" halign=\"left\">rating</th>\n",
              "    </tr>\n",
              "    <tr>\n",
              "      <th></th>\n",
              "      <th>count</th>\n",
              "      <th>mean</th>\n",
              "      <th>std</th>\n",
              "      <th>min</th>\n",
              "      <th>25%</th>\n",
              "      <th>50%</th>\n",
              "      <th>75%</th>\n",
              "      <th>max</th>\n",
              "    </tr>\n",
              "    <tr>\n",
              "      <th>category</th>\n",
              "      <th></th>\n",
              "      <th></th>\n",
              "      <th></th>\n",
              "      <th></th>\n",
              "      <th></th>\n",
              "      <th></th>\n",
              "      <th></th>\n",
              "      <th></th>\n",
              "    </tr>\n",
              "  </thead>\n",
              "  <tbody>\n",
              "    <tr>\n",
              "      <th>education</th>\n",
              "      <td>5110.0</td>\n",
              "      <td>4.774093</td>\n",
              "      <td>0.629783</td>\n",
              "      <td>1.0</td>\n",
              "      <td>4.924801</td>\n",
              "      <td>5.0</td>\n",
              "      <td>5.0</td>\n",
              "      <td>5.0</td>\n",
              "    </tr>\n",
              "    <tr>\n",
              "      <th>technology</th>\n",
              "      <td>2104.0</td>\n",
              "      <td>4.710968</td>\n",
              "      <td>0.704796</td>\n",
              "      <td>1.0</td>\n",
              "      <td>4.833333</td>\n",
              "      <td>5.0</td>\n",
              "      <td>5.0</td>\n",
              "      <td>5.0</td>\n",
              "    </tr>\n",
              "    <tr>\n",
              "      <th>tech-ed</th>\n",
              "      <td>224.0</td>\n",
              "      <td>4.710420</td>\n",
              "      <td>0.679641</td>\n",
              "      <td>1.0</td>\n",
              "      <td>4.747024</td>\n",
              "      <td>5.0</td>\n",
              "      <td>5.0</td>\n",
              "      <td>5.0</td>\n",
              "    </tr>\n",
              "  </tbody>\n",
              "</table>\n",
              "</div>\n",
              "      <button class=\"colab-df-convert\" onclick=\"convertToInteractive('df-e4ed5bf1-78c4-4aa2-b4ac-6d6c9b4b9fcc')\"\n",
              "              title=\"Convert this dataframe to an interactive table.\"\n",
              "              style=\"display:none;\">\n",
              "        \n",
              "  <svg xmlns=\"http://www.w3.org/2000/svg\" height=\"24px\"viewBox=\"0 0 24 24\"\n",
              "       width=\"24px\">\n",
              "    <path d=\"M0 0h24v24H0V0z\" fill=\"none\"/>\n",
              "    <path d=\"M18.56 5.44l.94 2.06.94-2.06 2.06-.94-2.06-.94-.94-2.06-.94 2.06-2.06.94zm-11 1L8.5 8.5l.94-2.06 2.06-.94-2.06-.94L8.5 2.5l-.94 2.06-2.06.94zm10 10l.94 2.06.94-2.06 2.06-.94-2.06-.94-.94-2.06-.94 2.06-2.06.94z\"/><path d=\"M17.41 7.96l-1.37-1.37c-.4-.4-.92-.59-1.43-.59-.52 0-1.04.2-1.43.59L10.3 9.45l-7.72 7.72c-.78.78-.78 2.05 0 2.83L4 21.41c.39.39.9.59 1.41.59.51 0 1.02-.2 1.41-.59l7.78-7.78 2.81-2.81c.8-.78.8-2.07 0-2.86zM5.41 20L4 18.59l7.72-7.72 1.47 1.35L5.41 20z\"/>\n",
              "  </svg>\n",
              "      </button>\n",
              "      \n",
              "  <style>\n",
              "    .colab-df-container {\n",
              "      display:flex;\n",
              "      flex-wrap:wrap;\n",
              "      gap: 12px;\n",
              "    }\n",
              "\n",
              "    .colab-df-convert {\n",
              "      background-color: #E8F0FE;\n",
              "      border: none;\n",
              "      border-radius: 50%;\n",
              "      cursor: pointer;\n",
              "      display: none;\n",
              "      fill: #1967D2;\n",
              "      height: 32px;\n",
              "      padding: 0 0 0 0;\n",
              "      width: 32px;\n",
              "    }\n",
              "\n",
              "    .colab-df-convert:hover {\n",
              "      background-color: #E2EBFA;\n",
              "      box-shadow: 0px 1px 2px rgba(60, 64, 67, 0.3), 0px 1px 3px 1px rgba(60, 64, 67, 0.15);\n",
              "      fill: #174EA6;\n",
              "    }\n",
              "\n",
              "    [theme=dark] .colab-df-convert {\n",
              "      background-color: #3B4455;\n",
              "      fill: #D2E3FC;\n",
              "    }\n",
              "\n",
              "    [theme=dark] .colab-df-convert:hover {\n",
              "      background-color: #434B5C;\n",
              "      box-shadow: 0px 1px 3px 1px rgba(0, 0, 0, 0.15);\n",
              "      filter: drop-shadow(0px 1px 2px rgba(0, 0, 0, 0.3));\n",
              "      fill: #FFFFFF;\n",
              "    }\n",
              "  </style>\n",
              "\n",
              "      <script>\n",
              "        const buttonEl =\n",
              "          document.querySelector('#df-e4ed5bf1-78c4-4aa2-b4ac-6d6c9b4b9fcc button.colab-df-convert');\n",
              "        buttonEl.style.display =\n",
              "          google.colab.kernel.accessAllowed ? 'block' : 'none';\n",
              "\n",
              "        async function convertToInteractive(key) {\n",
              "          const element = document.querySelector('#df-e4ed5bf1-78c4-4aa2-b4ac-6d6c9b4b9fcc');\n",
              "          const dataTable =\n",
              "            await google.colab.kernel.invokeFunction('convertToInteractive',\n",
              "                                                     [key], {});\n",
              "          if (!dataTable) return;\n",
              "\n",
              "          const docLinkHtml = 'Like what you see? Visit the ' +\n",
              "            '<a target=\"_blank\" href=https://colab.research.google.com/notebooks/data_table.ipynb>data table notebook</a>'\n",
              "            + ' to learn more about interactive tables.';\n",
              "          element.innerHTML = '';\n",
              "          dataTable['output_type'] = 'display_data';\n",
              "          await google.colab.output.renderOutput(dataTable, element);\n",
              "          const docLink = document.createElement('div');\n",
              "          docLink.innerHTML = docLinkHtml;\n",
              "          element.appendChild(docLink);\n",
              "        }\n",
              "      </script>\n",
              "    </div>\n",
              "  </div>\n",
              "  "
            ]
          },
          "metadata": {},
          "execution_count": 60
        }
      ]
    },
    {
      "cell_type": "markdown",
      "source": [
        "When comparing ratings across categories, the mean and standard deviation are very simmilar in all three cases. \n",
        "\n",
        "The IQR is the narrowest for _education_ and the widest for _technology_+_education_, suggesting that the majority of data in the latter is more spread out."
      ],
      "metadata": {
        "id": "94SLhxBsFz2k"
      }
    },
    {
      "cell_type": "markdown",
      "source": [
        "___________________________________"
      ],
      "metadata": {
        "id": "Q0n2VAiMjHk3"
      }
    },
    {
      "cell_type": "markdown",
      "source": [
        "When analyzing ratings, a podcast with a single review may not provide a lot of insight. Thus, we will be analysing ratings for podcasts with at least 5 reviews."
      ],
      "metadata": {
        "id": "4Fog28-1kGU1"
      }
    },
    {
      "cell_type": "code",
      "source": [
        "ratings_rev_count = tech_ed_rev_count.merge(mean_rating_cat)"
      ],
      "metadata": {
        "id": "AduRHSLQjvTu"
      },
      "execution_count": 61,
      "outputs": []
    },
    {
      "cell_type": "code",
      "source": [
        "popular_pods = ratings_rev_count[ratings_rev_count.review_count > 5]"
      ],
      "metadata": {
        "id": "36aQvDJdl-gs"
      },
      "execution_count": 62,
      "outputs": []
    },
    {
      "cell_type": "code",
      "source": [
        "fig, ax = plt.subplots(figsize=(15, 3))\n",
        "sns.boxplot(data=popular_pods, x='rating', y='category')\n",
        "\n",
        "plot_labels(\"Distribution of popular podcasts' review ratings\", 'Review rating per podcast', 'Category');"
      ],
      "metadata": {
        "colab": {
          "base_uri": "https://localhost:8080/",
          "height": 241
        },
        "id": "Imw6x1CjkmGy",
        "outputId": "02f02c44-b636-4dfa-fb6e-dcc16ae15600"
      },
      "execution_count": 63,
      "outputs": [
        {
          "output_type": "display_data",
          "data": {
            "text/plain": [
              "<Figure size 1080x216 with 1 Axes>"
            ],
            "image/png": "[encoded data removed]"
          },
          "metadata": {}
        }
      ]
    },
    {
      "cell_type": "code",
      "source": [
        "popular_pods.groupby('category').describe().rating.reindex(['education', 'technology', 'tech-ed'])"
      ],
      "metadata": {
        "colab": {
          "base_uri": "https://localhost:8080/",
          "height": 175
        },
        "id": "m_p-KEjamXEC",
        "outputId": "b47d1b66-baac-4bae-ca9d-f3adfbeb14e1"
      },
      "execution_count": 64,
      "outputs": [
        {
          "output_type": "execute_result",
          "data": {
            "text/plain": [
              "             count      mean       std       min       25%       50%  75%  max\n",
              "category                                                                      \n",
              "education   1460.0  4.822732  0.433312  1.000000  4.857143  5.000000  5.0  5.0\n",
              "technology   371.0  4.783768  0.417021  2.111111  4.800000  5.000000  5.0  5.0\n",
              "tech-ed       50.0  4.811817  0.317381  3.500000  4.800000  4.935417  5.0  5.0"
            ],
            "text/html": [
              "\n",
              "  <div id=\"df-9ff263f2-4cfa-4a4d-8a5d-1164a7b28659\">\n",
              "    <div class=\"colab-df-container\">\n",
              "      <div>\n",
              "<style scoped>\n",
              "    .dataframe tbody tr th:only-of-type {\n",
              "        vertical-align: middle;\n",
              "    }\n",
              "\n",
              "    .dataframe tbody tr th {\n",
              "        vertical-align: top;\n",
              "    }\n",
              "\n",
              "    .dataframe thead th {\n",
              "        text-align: right;\n",
              "    }\n",
              "</style>\n",
              "<table border=\"1\" class=\"dataframe\">\n",
              "  <thead>\n",
              "    <tr style=\"text-align: right;\">\n",
              "      <th></th>\n",
              "      <th>count</th>\n",
              "      <th>mean</th>\n",
              "      <th>std</th>\n",
              "      <th>min</th>\n",
              "      <th>25%</th>\n",
              "      <th>50%</th>\n",
              "      <th>75%</th>\n",
              "      <th>max</th>\n",
              "    </tr>\n",
              "    <tr>\n",
              "      <th>category</th>\n",
              "      <th></th>\n",
              "      <th></th>\n",
              "      <th></th>\n",
              "      <th></th>\n",
              "      <th></th>\n",
              "      <th></th>\n",
              "      <th></th>\n",
              "      <th></th>\n",
              "    </tr>\n",
              "  </thead>\n",
              "  <tbody>\n",
              "    <tr>\n",
              "      <th>education</th>\n",
              "      <td>1460.0</td>\n",
              "      <td>4.822732</td>\n",
              "      <td>0.433312</td>\n",
              "      <td>1.000000</td>\n",
              "      <td>4.857143</td>\n",
              "      <td>5.000000</td>\n",
              "      <td>5.0</td>\n",
              "      <td>5.0</td>\n",
              "    </tr>\n",
              "    <tr>\n",
              "      <th>technology</th>\n",
              "      <td>371.0</td>\n",
              "      <td>4.783768</td>\n",
              "      <td>0.417021</td>\n",
              "      <td>2.111111</td>\n",
              "      <td>4.800000</td>\n",
              "      <td>5.000000</td>\n",
              "      <td>5.0</td>\n",
              "      <td>5.0</td>\n",
              "    </tr>\n",
              "    <tr>\n",
              "      <th>tech-ed</th>\n",
              "      <td>50.0</td>\n",
              "      <td>4.811817</td>\n",
              "      <td>0.317381</td>\n",
              "      <td>3.500000</td>\n",
              "      <td>4.800000</td>\n",
              "      <td>4.935417</td>\n",
              "      <td>5.0</td>\n",
              "      <td>5.0</td>\n",
              "    </tr>\n",
              "  </tbody>\n",
              "</table>\n",
              "</div>\n",
              "      <button class=\"colab-df-convert\" onclick=\"convertToInteractive('df-9ff263f2-4cfa-4a4d-8a5d-1164a7b28659')\"\n",
              "              title=\"Convert this dataframe to an interactive table.\"\n",
              "              style=\"display:none;\">\n",
              "        \n",
              "  <svg xmlns=\"http://www.w3.org/2000/svg\" height=\"24px\"viewBox=\"0 0 24 24\"\n",
              "       width=\"24px\">\n",
              "    <path d=\"M0 0h24v24H0V0z\" fill=\"none\"/>\n",
              "    <path d=\"M18.56 5.44l.94 2.06.94-2.06 2.06-.94-2.06-.94-.94-2.06-.94 2.06-2.06.94zm-11 1L8.5 8.5l.94-2.06 2.06-.94-2.06-.94L8.5 2.5l-.94 2.06-2.06.94zm10 10l.94 2.06.94-2.06 2.06-.94-2.06-.94-.94-2.06-.94 2.06-2.06.94z\"/><path d=\"M17.41 7.96l-1.37-1.37c-.4-.4-.92-.59-1.43-.59-.52 0-1.04.2-1.43.59L10.3 9.45l-7.72 7.72c-.78.78-.78 2.05 0 2.83L4 21.41c.39.39.9.59 1.41.59.51 0 1.02-.2 1.41-.59l7.78-7.78 2.81-2.81c.8-.78.8-2.07 0-2.86zM5.41 20L4 18.59l7.72-7.72 1.47 1.35L5.41 20z\"/>\n",
              "  </svg>\n",
              "      </button>\n",
              "      \n",
              "  <style>\n",
              "    .colab-df-container {\n",
              "      display:flex;\n",
              "      flex-wrap:wrap;\n",
              "      gap: 12px;\n",
              "    }\n",
              "\n",
              "    .colab-df-convert {\n",
              "      background-color: #E8F0FE;\n",
              "      border: none;\n",
              "      border-radius: 50%;\n",
              "      cursor: pointer;\n",
              "      display: none;\n",
              "      fill: #1967D2;\n",
              "      height: 32px;\n",
              "      padding: 0 0 0 0;\n",
              "      width: 32px;\n",
              "    }\n",
              "\n",
              "    .colab-df-convert:hover {\n",
              "      background-color: #E2EBFA;\n",
              "      box-shadow: 0px 1px 2px rgba(60, 64, 67, 0.3), 0px 1px 3px 1px rgba(60, 64, 67, 0.15);\n",
              "      fill: #174EA6;\n",
              "    }\n",
              "\n",
              "    [theme=dark] .colab-df-convert {\n",
              "      background-color: #3B4455;\n",
              "      fill: #D2E3FC;\n",
              "    }\n",
              "\n",
              "    [theme=dark] .colab-df-convert:hover {\n",
              "      background-color: #434B5C;\n",
              "      box-shadow: 0px 1px 3px 1px rgba(0, 0, 0, 0.15);\n",
              "      filter: drop-shadow(0px 1px 2px rgba(0, 0, 0, 0.3));\n",
              "      fill: #FFFFFF;\n",
              "    }\n",
              "  </style>\n",
              "\n",
              "      <script>\n",
              "        const buttonEl =\n",
              "          document.querySelector('#df-9ff263f2-4cfa-4a4d-8a5d-1164a7b28659 button.colab-df-convert');\n",
              "        buttonEl.style.display =\n",
              "          google.colab.kernel.accessAllowed ? 'block' : 'none';\n",
              "\n",
              "        async function convertToInteractive(key) {\n",
              "          const element = document.querySelector('#df-9ff263f2-4cfa-4a4d-8a5d-1164a7b28659');\n",
              "          const dataTable =\n",
              "            await google.colab.kernel.invokeFunction('convertToInteractive',\n",
              "                                                     [key], {});\n",
              "          if (!dataTable) return;\n",
              "\n",
              "          const docLinkHtml = 'Like what you see? Visit the ' +\n",
              "            '<a target=\"_blank\" href=https://colab.research.google.com/notebooks/data_table.ipynb>data table notebook</a>'\n",
              "            + ' to learn more about interactive tables.';\n",
              "          element.innerHTML = '';\n",
              "          dataTable['output_type'] = 'display_data';\n",
              "          await google.colab.output.renderOutput(dataTable, element);\n",
              "          const docLink = document.createElement('div');\n",
              "          docLink.innerHTML = docLinkHtml;\n",
              "          element.appendChild(docLink);\n",
              "        }\n",
              "      </script>\n",
              "    </div>\n",
              "  </div>\n",
              "  "
            ]
          },
          "metadata": {},
          "execution_count": 64
        }
      ]
    },
    {
      "cell_type": "markdown",
      "source": [
        "The distribution of the more popular podcasts (those with review count over 5) shows a very similar mean across all three categories (approx 4.8). The IQR is also almost the same in all three categories. However, _education_ category still contains podcasts with mean rating of 1.0, while other two categories do not."
      ],
      "metadata": {
        "id": "EFgxOIB0ncLC"
      }
    },
    {
      "cell_type": "code",
      "source": [
        "top_rating_data = []\n",
        "bottom_rating_data = []\n",
        "top_rating_perc = []\n",
        "\n",
        "for cat in categ:\n",
        "    category_ratings = popular_pods[(popular_pods.category == cat)]\n",
        "    top_rating_pods = len(category_ratings[category_ratings.rating==5])\n",
        "    top_rating_data.append(top_rating_pods)\n",
        "    bottom_rating_data.append(len(category_ratings)-top_rating_pods)\n",
        "    top_rating_perc.append(top_rating_pods/len(category_ratings))"
      ],
      "metadata": {
        "id": "xh9zd6nIoqQ9"
      },
      "execution_count": 65,
      "outputs": []
    },
    {
      "cell_type": "code",
      "source": [
        "fig, ax = plt.subplots(figsize=(10, 10))\n",
        "\n",
        "ax.bar(categ, bottom_rating_data, label='mean rating less than 5.0')\n",
        "ax.bar(categ, top_rating_data, label='mean rating equal to 5.0', bottom=bottom_rating_data)\n",
        "plot_axes()\n",
        "plot_labels('Ratings ratio and count across categories', 'Categories', 'Review count')\n",
        "\n",
        "for i in range(len(categ)):\n",
        "    if i != 1:\n",
        "        plt.text(i-0.05,top_rating_data[i]+15, '{:.2%}'.format(top_rating_perc[i]), c='w')\n",
        "        plt.text(i-0.05,bottom_rating_data[i]-80, '{:.2%}'.format(1-top_rating_perc[i]), c='w')\n",
        "    else:\n",
        "        plt.text(i-0.05,top_rating_data[i]+30, '{:.2%}'.format(top_rating_perc[i]), c='g')\n",
        "        plt.text(i-0.05,bottom_rating_data[i]-23, '{:.2%}'.format(1-top_rating_perc[i]), c='w')        \n",
        "plt.legend();"
      ],
      "metadata": {
        "colab": {
          "base_uri": "https://localhost:8080/",
          "height": 621
        },
        "id": "_9PVVA8Pq60Q",
        "outputId": "2437472b-99aa-454f-b8db-c216ab2208ee"
      },
      "execution_count": 66,
      "outputs": [
        {
          "output_type": "display_data",
          "data": {
            "text/plain": [
              "<Figure size 720x720 with 1 Axes>"
            ],
            "image/png": "[encoded data removed]"
          },
          "metadata": {}
        }
      ]
    },
    {
      "cell_type": "markdown",
      "source": [
        "## Difference in rating proportions\n",
        "*Is the difference in proportion of mean 5.0 star rating significant across the three categories for podcasts with more than 5 reviews?*"
      ],
      "metadata": {
        "id": "5jj_T7koA2S2"
      }
    },
    {
      "cell_type": "markdown",
      "source": [
        "**Population**: Podcasts, assigned to either _technology_ or _education_ categories that received more than 5 reviews.\n",
        "\n",
        "**Parameter of Interest (p<sub>1</sub> - p<sub>2</sub>)**: difference in 5.0 star rating population proportions\n",
        "\n",
        "**Null Hypothesis**: p<sub>1</sub> - p<sub>2</sub> = 0; there is no difference in 5.0 rating population proportions across categories\n",
        "\n",
        "**Alternative Hypothesis**: p<sub>1</sub> - p<sub>2</sub> ≠ 0; there is a significant difference in 5.0 rating population proportions across categories\n",
        "\n",
        "**Significance level**: 5%; if the p-value calculated is smaller than 0.05, we reject the null hypothesis."
      ],
      "metadata": {
        "id": "MTSSzCTHA2S2"
      }
    },
    {
      "cell_type": "code",
      "source": [
        "pop_proportions_data = pd.DataFrame()\n",
        "for i in range(len(categ)):\n",
        "    sample_size = top_rating_data[i] + bottom_rating_data[i]\n",
        "    temp_data = pd.DataFrame({'category':categ[i],'sample size':sample_size, 'success count':top_rating_data[i], 'population_proportion':top_rating_perc[i]},index=[categ[i]])\n",
        "    pop_proportions_data = pd.concat([pop_proportions_data, temp_data])\n",
        "\n",
        "pop_proportions_data = pop_proportions_data.sort_values('population_proportion', ascending=False)\n",
        "pop_proportions_data"
      ],
      "metadata": {
        "id": "z9y0GcnszJDp",
        "outputId": "39815130-08a1-4efa-84d7-41982108ffb1",
        "colab": {
          "base_uri": "https://localhost:8080/",
          "height": 143
        }
      },
      "execution_count": 67,
      "outputs": [
        {
          "output_type": "execute_result",
          "data": {
            "text/plain": [
              "              category  sample size  success count  population_proportion\n",
              "education    education         1460            939               0.643151\n",
              "technology  technology          371            215               0.579515\n",
              "tech-ed        tech-ed           50             23               0.460000"
            ],
            "text/html": [
              "\n",
              "  <div id=\"df-5470c7c1-56d7-4bbe-bb28-08d9952892a1\">\n",
              "    <div class=\"colab-df-container\">\n",
              "      <div>\n",
              "<style scoped>\n",
              "    .dataframe tbody tr th:only-of-type {\n",
              "        vertical-align: middle;\n",
              "    }\n",
              "\n",
              "    .dataframe tbody tr th {\n",
              "        vertical-align: top;\n",
              "    }\n",
              "\n",
              "    .dataframe thead th {\n",
              "        text-align: right;\n",
              "    }\n",
              "</style>\n",
              "<table border=\"1\" class=\"dataframe\">\n",
              "  <thead>\n",
              "    <tr style=\"text-align: right;\">\n",
              "      <th></th>\n",
              "      <th>category</th>\n",
              "      <th>sample size</th>\n",
              "      <th>success count</th>\n",
              "      <th>population_proportion</th>\n",
              "    </tr>\n",
              "  </thead>\n",
              "  <tbody>\n",
              "    <tr>\n",
              "      <th>education</th>\n",
              "      <td>education</td>\n",
              "      <td>1460</td>\n",
              "      <td>939</td>\n",
              "      <td>0.643151</td>\n",
              "    </tr>\n",
              "    <tr>\n",
              "      <th>technology</th>\n",
              "      <td>technology</td>\n",
              "      <td>371</td>\n",
              "      <td>215</td>\n",
              "      <td>0.579515</td>\n",
              "    </tr>\n",
              "    <tr>\n",
              "      <th>tech-ed</th>\n",
              "      <td>tech-ed</td>\n",
              "      <td>50</td>\n",
              "      <td>23</td>\n",
              "      <td>0.460000</td>\n",
              "    </tr>\n",
              "  </tbody>\n",
              "</table>\n",
              "</div>\n",
              "      <button class=\"colab-df-convert\" onclick=\"convertToInteractive('df-5470c7c1-56d7-4bbe-bb28-08d9952892a1')\"\n",
              "              title=\"Convert this dataframe to an interactive table.\"\n",
              "              style=\"display:none;\">\n",
              "        \n",
              "  <svg xmlns=\"http://www.w3.org/2000/svg\" height=\"24px\"viewBox=\"0 0 24 24\"\n",
              "       width=\"24px\">\n",
              "    <path d=\"M0 0h24v24H0V0z\" fill=\"none\"/>\n",
              "    <path d=\"M18.56 5.44l.94 2.06.94-2.06 2.06-.94-2.06-.94-.94-2.06-.94 2.06-2.06.94zm-11 1L8.5 8.5l.94-2.06 2.06-.94-2.06-.94L8.5 2.5l-.94 2.06-2.06.94zm10 10l.94 2.06.94-2.06 2.06-.94-2.06-.94-.94-2.06-.94 2.06-2.06.94z\"/><path d=\"M17.41 7.96l-1.37-1.37c-.4-.4-.92-.59-1.43-.59-.52 0-1.04.2-1.43.59L10.3 9.45l-7.72 7.72c-.78.78-.78 2.05 0 2.83L4 21.41c.39.39.9.59 1.41.59.51 0 1.02-.2 1.41-.59l7.78-7.78 2.81-2.81c.8-.78.8-2.07 0-2.86zM5.41 20L4 18.59l7.72-7.72 1.47 1.35L5.41 20z\"/>\n",
              "  </svg>\n",
              "      </button>\n",
              "      \n",
              "  <style>\n",
              "    .colab-df-container {\n",
              "      display:flex;\n",
              "      flex-wrap:wrap;\n",
              "      gap: 12px;\n",
              "    }\n",
              "\n",
              "    .colab-df-convert {\n",
              "      background-color: #E8F0FE;\n",
              "      border: none;\n",
              "      border-radius: 50%;\n",
              "      cursor: pointer;\n",
              "      display: none;\n",
              "      fill: #1967D2;\n",
              "      height: 32px;\n",
              "      padding: 0 0 0 0;\n",
              "      width: 32px;\n",
              "    }\n",
              "\n",
              "    .colab-df-convert:hover {\n",
              "      background-color: #E2EBFA;\n",
              "      box-shadow: 0px 1px 2px rgba(60, 64, 67, 0.3), 0px 1px 3px 1px rgba(60, 64, 67, 0.15);\n",
              "      fill: #174EA6;\n",
              "    }\n",
              "\n",
              "    [theme=dark] .colab-df-convert {\n",
              "      background-color: #3B4455;\n",
              "      fill: #D2E3FC;\n",
              "    }\n",
              "\n",
              "    [theme=dark] .colab-df-convert:hover {\n",
              "      background-color: #434B5C;\n",
              "      box-shadow: 0px 1px 3px 1px rgba(0, 0, 0, 0.15);\n",
              "      filter: drop-shadow(0px 1px 2px rgba(0, 0, 0, 0.3));\n",
              "      fill: #FFFFFF;\n",
              "    }\n",
              "  </style>\n",
              "\n",
              "      <script>\n",
              "        const buttonEl =\n",
              "          document.querySelector('#df-5470c7c1-56d7-4bbe-bb28-08d9952892a1 button.colab-df-convert');\n",
              "        buttonEl.style.display =\n",
              "          google.colab.kernel.accessAllowed ? 'block' : 'none';\n",
              "\n",
              "        async function convertToInteractive(key) {\n",
              "          const element = document.querySelector('#df-5470c7c1-56d7-4bbe-bb28-08d9952892a1');\n",
              "          const dataTable =\n",
              "            await google.colab.kernel.invokeFunction('convertToInteractive',\n",
              "                                                     [key], {});\n",
              "          if (!dataTable) return;\n",
              "\n",
              "          const docLinkHtml = 'Like what you see? Visit the ' +\n",
              "            '<a target=\"_blank\" href=https://colab.research.google.com/notebooks/data_table.ipynb>data table notebook</a>'\n",
              "            + ' to learn more about interactive tables.';\n",
              "          element.innerHTML = '';\n",
              "          dataTable['output_type'] = 'display_data';\n",
              "          await google.colab.output.renderOutput(dataTable, element);\n",
              "          const docLink = document.createElement('div');\n",
              "          docLink.innerHTML = docLinkHtml;\n",
              "          element.appendChild(docLink);\n",
              "        }\n",
              "      </script>\n",
              "    </div>\n",
              "  </div>\n",
              "  "
            ]
          },
          "metadata": {},
          "execution_count": 67
        }
      ]
    },
    {
      "cell_type": "markdown",
      "source": [
        "When comapring population proportions, we will look if the 5.0 rating podcast proportion in _education_ category is significantly different from the one in _technology_ category. Similarly, we will look whether the 5.0 rating podcast proportion in _technology_ is significantly different than the one in _technology_+_education_."
      ],
      "metadata": {
        "id": "cgXdnfnS1wcd"
      }
    },
    {
      "cell_type": "markdown",
      "source": [
        "### Check Assumptions\n"
      ],
      "metadata": {
        "id": "6YluowFqA2S3"
      }
    },
    {
      "cell_type": "markdown",
      "source": [
        "* Samples are considered simple random samples (assuming that yes)\n",
        "* Samples are independent from one another (yes, podcasts are filtered based on their assignment to only one or both categories)\n",
        "* Samples are normally distributed\n",
        "* Sample size is large enough\n"
      ],
      "metadata": {
        "id": "05oYP3qHA2S3"
      }
    },
    {
      "cell_type": "markdown",
      "source": [
        "### Calculate test statistic"
      ],
      "metadata": {
        "id": "r8DnYzWjA2S3"
      }
    },
    {
      "cell_type": "code",
      "source": [
        "pop_proportions_data.population_proportion"
      ],
      "metadata": {
        "id": "a97EK-Ga31nI",
        "outputId": "776ff111-bca0-49d5-9da9-b50786b4651d",
        "colab": {
          "base_uri": "https://localhost:8080/"
        }
      },
      "execution_count": 68,
      "outputs": [
        {
          "output_type": "execute_result",
          "data": {
            "text/plain": [
              "education     0.643151\n",
              "technology    0.579515\n",
              "tech-ed       0.460000\n",
              "Name: population_proportion, dtype: float64"
            ]
          },
          "metadata": {},
          "execution_count": 68
        }
      ]
    },
    {
      "cell_type": "markdown",
      "source": [
        "#### Confidence intervals"
      ],
      "metadata": {
        "id": "mlognR6bA2S3"
      }
    },
    {
      "cell_type": "code",
      "source": [
        "proportions_ci = pd.DataFrame()\n",
        "categ = pop_proportions_data.index\n",
        "for i in range(2):\n",
        "    cat1 = pop_proportions_data.index[i]\n",
        "    cat2 = pop_proportions_data.index[i+1]\n",
        "    p1 = pop_proportions_data.population_proportion[cat1]\n",
        "    p2 = pop_proportions_data.population_proportion[cat2]\n",
        "    count1 = pop_proportions_data['success count'][cat1]\n",
        "    count2 = pop_proportions_data['success count'][cat2]\n",
        "    n1 = pop_proportions_data['sample size'][cat1]\n",
        "    n2 = pop_proportions_data['sample size'][cat2]\n",
        "    low, upp = confint_proportions_2indep(count1, n1, count2, n2)\n",
        "    temp_ci = pd.DataFrame({'porportion difference': p1-p2, 'lower bound':low, 'upper bound':upp}, index=[f'{categ[i]} vs {categ[i+1]}'])\n",
        "    proportions_ci=pd.concat([proportions_ci, temp_ci])\n",
        "\n",
        "proportions_ci"
      ],
      "metadata": {
        "id": "qtKRmv912xig",
        "outputId": "09c6f2ee-9139-4c5a-b232-258fdbbf3972",
        "colab": {
          "base_uri": "https://localhost:8080/",
          "height": 112
        }
      },
      "execution_count": 101,
      "outputs": [
        {
          "output_type": "execute_result",
          "data": {
            "text/plain": [
              "                         porportion difference  lower bound  upper bound\n",
              "education vs technology               0.063636     0.008517     0.119887\n",
              "technology vs tech-ed                 0.119515    -0.025672     0.258785"
            ],
            "text/html": [
              "\n",
              "  <div id=\"df-ef8d8d82-3ceb-447f-a1e1-0edac20ca541\">\n",
              "    <div class=\"colab-df-container\">\n",
              "      <div>\n",
              "<style scoped>\n",
              "    .dataframe tbody tr th:only-of-type {\n",
              "        vertical-align: middle;\n",
              "    }\n",
              "\n",
              "    .dataframe tbody tr th {\n",
              "        vertical-align: top;\n",
              "    }\n",
              "\n",
              "    .dataframe thead th {\n",
              "        text-align: right;\n",
              "    }\n",
              "</style>\n",
              "<table border=\"1\" class=\"dataframe\">\n",
              "  <thead>\n",
              "    <tr style=\"text-align: right;\">\n",
              "      <th></th>\n",
              "      <th>porportion difference</th>\n",
              "      <th>lower bound</th>\n",
              "      <th>upper bound</th>\n",
              "    </tr>\n",
              "  </thead>\n",
              "  <tbody>\n",
              "    <tr>\n",
              "      <th>education vs technology</th>\n",
              "      <td>0.063636</td>\n",
              "      <td>0.008517</td>\n",
              "      <td>0.119887</td>\n",
              "    </tr>\n",
              "    <tr>\n",
              "      <th>technology vs tech-ed</th>\n",
              "      <td>0.119515</td>\n",
              "      <td>-0.025672</td>\n",
              "      <td>0.258785</td>\n",
              "    </tr>\n",
              "  </tbody>\n",
              "</table>\n",
              "</div>\n",
              "      <button class=\"colab-df-convert\" onclick=\"convertToInteractive('df-ef8d8d82-3ceb-447f-a1e1-0edac20ca541')\"\n",
              "              title=\"Convert this dataframe to an interactive table.\"\n",
              "              style=\"display:none;\">\n",
              "        \n",
              "  <svg xmlns=\"http://www.w3.org/2000/svg\" height=\"24px\"viewBox=\"0 0 24 24\"\n",
              "       width=\"24px\">\n",
              "    <path d=\"M0 0h24v24H0V0z\" fill=\"none\"/>\n",
              "    <path d=\"M18.56 5.44l.94 2.06.94-2.06 2.06-.94-2.06-.94-.94-2.06-.94 2.06-2.06.94zm-11 1L8.5 8.5l.94-2.06 2.06-.94-2.06-.94L8.5 2.5l-.94 2.06-2.06.94zm10 10l.94 2.06.94-2.06 2.06-.94-2.06-.94-.94-2.06-.94 2.06-2.06.94z\"/><path d=\"M17.41 7.96l-1.37-1.37c-.4-.4-.92-.59-1.43-.59-.52 0-1.04.2-1.43.59L10.3 9.45l-7.72 7.72c-.78.78-.78 2.05 0 2.83L4 21.41c.39.39.9.59 1.41.59.51 0 1.02-.2 1.41-.59l7.78-7.78 2.81-2.81c.8-.78.8-2.07 0-2.86zM5.41 20L4 18.59l7.72-7.72 1.47 1.35L5.41 20z\"/>\n",
              "  </svg>\n",
              "      </button>\n",
              "      \n",
              "  <style>\n",
              "    .colab-df-container {\n",
              "      display:flex;\n",
              "      flex-wrap:wrap;\n",
              "      gap: 12px;\n",
              "    }\n",
              "\n",
              "    .colab-df-convert {\n",
              "      background-color: #E8F0FE;\n",
              "      border: none;\n",
              "      border-radius: 50%;\n",
              "      cursor: pointer;\n",
              "      display: none;\n",
              "      fill: #1967D2;\n",
              "      height: 32px;\n",
              "      padding: 0 0 0 0;\n",
              "      width: 32px;\n",
              "    }\n",
              "\n",
              "    .colab-df-convert:hover {\n",
              "      background-color: #E2EBFA;\n",
              "      box-shadow: 0px 1px 2px rgba(60, 64, 67, 0.3), 0px 1px 3px 1px rgba(60, 64, 67, 0.15);\n",
              "      fill: #174EA6;\n",
              "    }\n",
              "\n",
              "    [theme=dark] .colab-df-convert {\n",
              "      background-color: #3B4455;\n",
              "      fill: #D2E3FC;\n",
              "    }\n",
              "\n",
              "    [theme=dark] .colab-df-convert:hover {\n",
              "      background-color: #434B5C;\n",
              "      box-shadow: 0px 1px 3px 1px rgba(0, 0, 0, 0.15);\n",
              "      filter: drop-shadow(0px 1px 2px rgba(0, 0, 0, 0.3));\n",
              "      fill: #FFFFFF;\n",
              "    }\n",
              "  </style>\n",
              "\n",
              "      <script>\n",
              "        const buttonEl =\n",
              "          document.querySelector('#df-ef8d8d82-3ceb-447f-a1e1-0edac20ca541 button.colab-df-convert');\n",
              "        buttonEl.style.display =\n",
              "          google.colab.kernel.accessAllowed ? 'block' : 'none';\n",
              "\n",
              "        async function convertToInteractive(key) {\n",
              "          const element = document.querySelector('#df-ef8d8d82-3ceb-447f-a1e1-0edac20ca541');\n",
              "          const dataTable =\n",
              "            await google.colab.kernel.invokeFunction('convertToInteractive',\n",
              "                                                     [key], {});\n",
              "          if (!dataTable) return;\n",
              "\n",
              "          const docLinkHtml = 'Like what you see? Visit the ' +\n",
              "            '<a target=\"_blank\" href=https://colab.research.google.com/notebooks/data_table.ipynb>data table notebook</a>'\n",
              "            + ' to learn more about interactive tables.';\n",
              "          element.innerHTML = '';\n",
              "          dataTable['output_type'] = 'display_data';\n",
              "          await google.colab.output.renderOutput(dataTable, element);\n",
              "          const docLink = document.createElement('div');\n",
              "          docLink.innerHTML = docLinkHtml;\n",
              "          element.appendChild(docLink);\n",
              "        }\n",
              "      </script>\n",
              "    </div>\n",
              "  </div>\n",
              "  "
            ]
          },
          "metadata": {},
          "execution_count": 101
        }
      ]
    }
  ],
  "metadata": {
    "kernelspec": {
      "display_name": "Python 3",
      "language": "python",
      "name": "python3"
    },
    "language_info": {
      "codemirror_mode": {
        "name": "ipython",
        "version": 3
      },
      "file_extension": ".py",
      "mimetype": "text/x-python",
      "name": "python",
      "nbconvert_exporter": "python",
      "pygments_lexer": "ipython3",
      "version": "3.7.7"
    },
    "colab": {
      "name": "225.ipynb",
      "provenance": [],
      "toc_visible": true
    }
  },
  "nbformat": 4,
  "nbformat_minor": 0
}